{
 "cells": [
  {
   "cell_type": "code",
   "execution_count": null,
   "id": "initial_id",
   "metadata": {
    "collapsed": true
   },
   "outputs": [],
   "source": [
    "!git clone https://github.com/Nanigash1/vqfont"
   ]
  },
  {
   "cell_type": "code",
   "outputs": [],
   "source": [
    "## Importing libraries"
   ],
   "metadata": {
    "collapsed": false,
    "ExecuteTime": {
     "end_time": "2024-06-01T09:35:56.389977Z",
     "start_time": "2024-06-01T09:35:56.385475Z"
    }
   },
   "id": "24ea89c229d4ee0d",
   "execution_count": 1
  },
  {
   "cell_type": "code",
   "outputs": [],
   "source": [
    "!pip install numpy opencv-python lmdb Pillow tqdm PyYAML pygame scipy scikit-image einops seaborn matplotlib"
   ],
   "metadata": {
    "collapsed": false
   },
   "id": "bcc98bbd5449e609"
  },
  {
   "cell_type": "code",
   "outputs": [],
   "source": [
    "!pip install apex"
   ],
   "metadata": {
    "collapsed": false
   },
   "id": "eb857b11b801eb35"
  },
  {
   "cell_type": "code",
   "outputs": [],
   "source": [
    "!pip install sconf"
   ],
   "metadata": {
    "collapsed": false
   },
   "id": "dd356223046728cc"
  },
  {
   "cell_type": "code",
   "outputs": [],
   "source": [
    "cd /content/vqfont"
   ],
   "metadata": {
    "collapsed": false
   },
   "id": "17ff893628036f99"
  },
  {
   "cell_type": "code",
   "outputs": [],
   "source": [
    "!export XDG_RUNTIME_DIR=/tmp"
   ],
   "metadata": {
    "collapsed": false
   },
   "id": "5bc67ce7d6f4f795"
  },
  {
   "cell_type": "code",
   "outputs": [],
   "source": [],
   "metadata": {
    "collapsed": false
   },
   "id": "61cff958a1c09d6f"
  },
  {
   "cell_type": "code",
   "outputs": [],
   "source": [
    "def convert_drive_url(original_url):\n",
    "    if 'drive.google.com/file/d/' in original_url:\n",
    "        file_id = original_url.split('/d/')[1].split('/')[0]\n",
    "        return f'https://drive.google.com/uc?id={file_id}'\n",
    "    else:\n",
    "        raise ValueError('Invalid Google Drive URL format')\n",
    "\n",
    "# Пример использования\n",
    "original_url = 'https://drive.google.com/file/d/11q7zcXuCPeInXQPe09f7negjhlTaQsqb/view?usp=sharing'\n",
    "converted_url = convert_drive_url(original_url)\n",
    "print(converted_url)\n"
   ],
   "metadata": {
    "collapsed": false
   },
   "id": "bbfa3c57f1171290"
  },
  {
   "cell_type": "code",
   "outputs": [],
   "source": [
    "import gdown\n",
    "\n",
    "# Путь для сохранения файла в Colab\n",
    "output = '/content/vqfont/'\n",
    "\n",
    "# Загрузка файла\n",
    "gdown.download(converted_url, output, quiet=False)"
   ],
   "metadata": {
    "collapsed": false
   },
   "id": "ad983160f7d0a534"
  },
  {
   "cell_type": "code",
   "outputs": [],
   "source": [
    "import zipfile\n",
    "import os\n",
    "\n",
    "# Путь к загруженному архиву\n",
    "zip_path = '/content/vqfont/style.zip'\n",
    "\n",
    "# Путь для сохранения папки result\n",
    "extract_path = '/content/vqfont/data'\n",
    "\n",
    "# Функция для извлечения только нужной папки\n",
    "def extract_specific_folder(zip_path, extract_path, folder_name):\n",
    "    with zipfile.ZipFile(zip_path, 'r') as zip_ref:\n",
    "        for member in zip_ref.namelist():\n",
    "            if member.startswith(folder_name):\n",
    "                # Получаем относительный путь внутри архива\n",
    "                relative_path = os.path.relpath(member, folder_name)\n",
    "                # Вычисляем полный путь для извлечения\n",
    "                target_path = os.path.join(extract_path, relative_path)\n",
    "                # Создаем папки, если их нет\n",
    "                if not os.path.exists(os.path.dirname(target_path)):\n",
    "                    os.makedirs(os.path.dirname(target_path))\n",
    "                # Пропускаем директории\n",
    "                if not member.endswith('/'):\n",
    "                    # Извлекаем файл\n",
    "                    with zip_ref.open(member) as source, open(target_path, 'wb') as target:\n",
    "                        target.write(source.read())\n",
    "\n",
    "# Извлечение только папки result\n",
    "extract_specific_folder(zip_path, extract_path, '')\n"
   ],
   "metadata": {
    "collapsed": false
   },
   "id": "22f235d7570e263e"
  },
  {
   "cell_type": "code",
   "outputs": [],
   "source": [
    "## TRAINING"
   ],
   "metadata": {
    "collapsed": false
   },
   "id": "b0287f0da85d8c86"
  },
  {
   "cell_type": "code",
   "outputs": [],
   "source": [
    "!python train.py test cfgs/custom.yaml"
   ],
   "metadata": {
    "collapsed": false
   },
   "id": "702e87a5b05c2743"
  },
  {
   "cell_type": "code",
   "outputs": [],
   "source": [],
   "metadata": {
    "collapsed": false
   },
   "id": "3709ef948916b61c"
  },
  {
   "cell_type": "code",
   "outputs": [],
   "source": [
    "## TO SAVE"
   ],
   "metadata": {
    "collapsed": false
   },
   "id": "bfadb51fdc8e3b39"
  },
  {
   "cell_type": "code",
   "outputs": [],
   "source": [
    "!zip -r vqfont1.zip /content/VQ-Font"
   ],
   "metadata": {
    "collapsed": false
   },
   "id": "1fb020218a726fb3"
  },
  {
   "cell_type": "code",
   "outputs": [],
   "source": [
    "### Upload zip file in Google Drive"
   ],
   "metadata": {
    "collapsed": false
   },
   "id": "506919ed1684c303"
  },
  {
   "cell_type": "code",
   "outputs": [],
   "source": [
    "from google.colab import drive\n",
    "drive.mount('/content/drive')\n",
    "\n",
    "# Копируем файл на Google Диск\n",
    "!cp vqfont.zip /content/drive/My\\ Drive/vqfont.zip\n"
   ],
   "metadata": {
    "collapsed": false
   },
   "id": "dd5698d1baab8509"
  },
  {
   "cell_type": "code",
   "outputs": [],
   "source": [
    "## Load from google drive"
   ],
   "metadata": {
    "collapsed": false
   },
   "id": "4eb1ce95fe6c224f"
  },
  {
   "cell_type": "code",
   "outputs": [],
   "source": [],
   "metadata": {
    "collapsed": false
   },
   "id": "131a2541ff42f202"
  }
 ],
 "metadata": {
  "kernelspec": {
   "display_name": "Python 3",
   "language": "python",
   "name": "python3"
  },
  "language_info": {
   "codemirror_mode": {
    "name": "ipython",
    "version": 2
   },
   "file_extension": ".py",
   "mimetype": "text/x-python",
   "name": "python",
   "nbconvert_exporter": "python",
   "pygments_lexer": "ipython2",
   "version": "2.7.6"
  }
 },
 "nbformat": 4,
 "nbformat_minor": 5
}
