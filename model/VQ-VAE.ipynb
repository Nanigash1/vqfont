{
 "cells": [
  {
   "cell_type": "code",
   "execution_count": 13,
   "id": "9e12cff5",
   "metadata": {
    "ExecuteTime": {
     "end_time": "2024-05-19T18:40:36.493440Z",
     "start_time": "2024-05-19T18:40:36.486657Z"
    }
   },
   "outputs": [],
   "source": [
    "import sys\n",
    "sys.path.append(\"/home/dell/pycharm_remote/VQ-Font/\") # the absolute path to the code\n",
    "import numpy as np\n",
    "from scipy.signal import savgol_filter\n",
    "import matplotlib.pyplot as plt\n",
    "import torch\n",
    "import torch.nn as nn\n",
    "import torch.nn.functional as F\n",
    "from torch import optim\n",
    "from six.moves import xrange\n",
    "import os\n",
    "\n",
    "from torch.utils.data import DataLoader\n",
    "import torchvision.transforms as transforms\n",
    "from model import content_enc_builder\n",
    "from model import dec_builder\n",
    "\n",
    "from torch.utils.data import Dataset\n",
    "from PIL import Image, ImageFile\n",
    "from model.modules import weights_init\n",
    "import pprint\n",
    "import json\n",
    "import tqdm"
   ]
  },
  {
   "cell_type": "code",
   "execution_count": 14,
   "id": "f867e7a8",
   "metadata": {
    "ExecuteTime": {
     "end_time": "2024-05-19T18:40:42.866756Z",
     "start_time": "2024-05-19T18:40:42.857588Z"
    }
   },
   "outputs": [],
   "source": [
    "class VectorQuantizer(nn.Module):\n",
    "    def __init__(self, num_embeddings, embedding_dim, commitment_cost):\n",
    "        super(VectorQuantizer, self).__init__()\n",
    "\n",
    "        self._num_embeddings = num_embeddings\n",
    "        self._embedding_dim = embedding_dim\n",
    "        self._commitment_cost = commitment_cost\n",
    "\n",
    "        self._embedding = nn.Embedding(self._num_embeddings, self._embedding_dim)\n",
    "        self._embedding.weight.data.uniform_(-1 / self._num_embeddings, 1 / self._num_embeddings)\n",
    "\n",
    "\n",
    "    def forward(self, inputs):\n",
    "        # 传入的是图片经过encoder后的feature maps\n",
    "        # convert inputs from BCHW\n",
    "        input_shape = inputs.shape\n",
    "\n",
    "        # Flatten input ->[BC HW]\n",
    "        flat_input = inputs.view(-1, self._embedding_dim)\n",
    "\n",
    "        # Calculate distances\n",
    "        distances = (torch.sum(flat_input ** 2, dim=1, keepdim=True)\n",
    "                     + torch.sum(self._embedding.weight ** 2, dim=1)\n",
    "                     - 2 * torch.matmul(flat_input, self._embedding.weight.t()))\n",
    "\n",
    "        # Encoding\n",
    "        encoding_indices = torch.argmin(distances, dim=1).unsqueeze(1) #得到编号\n",
    "        encodings = torch.zeros(encoding_indices.shape[0], self._num_embeddings, device=inputs.device)\n",
    "        encodings.scatter_(1, encoding_indices, 1)\n",
    "\n",
    "        # Quantize and unflatten\n",
    "        quantized = torch.matmul(encodings, self._embedding.weight).view(input_shape)\n",
    "\n",
    "        # Loss\n",
    "        e_latent_loss = F.mse_loss(quantized.detach(), inputs)\n",
    "        q_latent_loss = F.mse_loss(quantized, inputs.detach())\n",
    "        loss = q_latent_loss + self._commitment_cost * e_latent_loss\n",
    "\n",
    "        quantized = inputs + (quantized - inputs).detach()\n",
    "        avg_probs = torch.mean(encodings, dim=0)\n",
    "        perplexity = torch.exp(-torch.sum(avg_probs * torch.log(avg_probs + 1e-10)))\n",
    "\n",
    "        # convert quantized from BHWC -> BCHW\n",
    "        return loss, quantized, perplexity, encodings"
   ]
  },
  {
   "cell_type": "code",
   "execution_count": 15,
   "id": "fc442a34",
   "metadata": {
    "ExecuteTime": {
     "end_time": "2024-05-19T18:40:43.600066Z",
     "start_time": "2024-05-19T18:40:43.587754Z"
    }
   },
   "outputs": [],
   "source": [
    "class VectorQuantizerEMA(nn.Module):\n",
    "    def __init__(self, num_embeddings, embedding_dim, commitment_cost, decay, epsilon=1e-5):\n",
    "        super(VectorQuantizerEMA, self).__init__()\n",
    "\n",
    "        self._embedding_dim = embedding_dim\n",
    "        self._num_embeddings = num_embeddings\n",
    "\n",
    "        self._embedding = nn.Embedding(self._num_embeddings, self._embedding_dim)\n",
    "        self._embedding.weight.data.normal_()\n",
    "        self._commitment_cost = commitment_cost\n",
    "\n",
    "        self.register_buffer('_ema_cluster_size', torch.zeros(num_embeddings))\n",
    "        self._ema_w = nn.Parameter(torch.Tensor(num_embeddings, self._embedding_dim))\n",
    "        self._ema_w.data.normal_()\n",
    "\n",
    "        self._decay = decay\n",
    "        self._epsilon = epsilon\n",
    "\n",
    "    def forward(self, inputs):\n",
    "        # convert inputs from BCHW -> BHWC\n",
    "        inputs = inputs.permute(0, 2, 3, 1).contiguous()\n",
    "        input_shape = inputs.shape\n",
    "\n",
    "        # Flatten input\n",
    "        flat_input = inputs.view(-1, self._embedding_dim)\n",
    "\n",
    "        # Calculate distances\n",
    "        distances = (torch.sum(flat_input ** 2, dim=1, keepdim=True)\n",
    "                     + torch.sum(self._embedding.weight ** 2, dim=1)\n",
    "                     - 2 * torch.matmul(flat_input, self._embedding.weight.t()))\n",
    "\n",
    "        # Encoding\n",
    "        encoding_indices = torch.argmin(distances, dim=1).unsqueeze(1)\n",
    "        encodings = torch.zeros(encoding_indices.shape[0], self._num_embeddings, device=inputs.device)\n",
    "        encodings.scatter_(1, encoding_indices, 1)\n",
    "\n",
    "        # Quantize and unflatten\n",
    "        quantized = torch.matmul(encodings, self._embedding.weight).view(input_shape)\n",
    "\n",
    "        # Use EMA to update the embedding vectors\n",
    "        if self.training:\n",
    "            self._ema_cluster_size = self._ema_cluster_size * self._decay + \\\n",
    "                                     (1 - self._decay) * torch.sum(encodings, 0)\n",
    "\n",
    "            # Laplace smoothing of the cluster size\n",
    "            n = torch.sum(self._ema_cluster_size.data)\n",
    "            self._ema_cluster_size = (\n",
    "                    (self._ema_cluster_size + self._epsilon)\n",
    "                    / (n + self._num_embeddings * self._epsilon) * n)\n",
    "\n",
    "            dw = torch.matmul(encodings.t(), flat_input)\n",
    "            self._ema_w = nn.Parameter(self._ema_w * self._decay + (1 - self._decay) * dw)\n",
    "\n",
    "            self._embedding.weight = nn.Parameter(self._ema_w / self._ema_cluster_size.unsqueeze(1))\n",
    "\n",
    "        # Loss\n",
    "        e_latent_loss = F.mse_loss(quantized.detach(), inputs)\n",
    "        loss = self._commitment_cost * e_latent_loss\n",
    "\n",
    "        # Straight Through Estimator\n",
    "        quantized = inputs + (quantized - inputs).detach()\n",
    "        avg_probs = torch.mean(encodings, dim=0)\n",
    "        perplexity = torch.exp(-torch.sum(avg_probs * torch.log(avg_probs + 1e-10)))\n",
    "\n",
    "        # convert quantized from BHWC -> BCHW\n",
    "        return loss, quantized.permute(0, 3, 1, 2).contiguous(), perplexity, encodings"
   ]
  },
  {
   "cell_type": "code",
   "execution_count": 16,
   "id": "cdd437fb",
   "metadata": {
    "ExecuteTime": {
     "end_time": "2024-05-19T18:40:44.178347Z",
     "start_time": "2024-05-19T18:40:44.170941Z"
    }
   },
   "outputs": [],
   "source": [
    "class Model(nn.Module):\n",
    "    def __init__(self, num_embeddings, embedding_dim, commitment_cost, decay=0):\n",
    "        super(Model, self).__init__()\n",
    "\n",
    "        self._encoder = content_enc_builder(1,32,256)\n",
    "\n",
    "        if decay > 0.0:\n",
    "            self._vq_vae = VectorQuantizerEMA(num_embeddings, embedding_dim,\n",
    "                                              commitment_cost, decay)\n",
    "        else:\n",
    "            self._vq_vae = VectorQuantizer(num_embeddings, embedding_dim,\n",
    "                                           commitment_cost)\n",
    "        self._decoder = dec_builder(32, 1)\n",
    "\n",
    "    def forward(self, x):\n",
    "        z = self._encoder(x) #[B 256 16 16]\n",
    "        loss, quantized, perplexity, _ = self._vq_vae(z)\n",
    "        x_recon = self._decoder(quantized)\n",
    "\n",
    "        return loss, x_recon, perplexity\n"
   ]
  },
  {
   "cell_type": "code",
   "execution_count": 17,
   "id": "59573f1c",
   "metadata": {
    "ExecuteTime": {
     "end_time": "2024-05-19T18:40:44.790956Z",
     "start_time": "2024-05-19T18:40:44.780091Z"
    }
   },
   "outputs": [],
   "source": [
    "class CombTrain_VQ_VAE_dataset(Dataset):\n",
    "    \"\"\"\n",
    "    CombTrain_VQ_VAE_dataset, learn the laten codebook from content font. \n",
    "    \"\"\"\n",
    "\n",
    "    def __init__(self, root, transform = None):\n",
    "        self.img_path = root\n",
    "        self.transform = transform\n",
    "        self.imgs = self.read_file(self.img_path)\n",
    "        # img = Image.open(self.imgs[0])\n",
    "        # img = self.transform(img)\n",
    "        # print(img.shape)\n",
    "\n",
    "\n",
    "    def read_file(self, path):\n",
    "        \"\"\"从文件夹中读取数据\"\"\"\n",
    "        files_list = os.listdir(path)\n",
    "        file_path_list = [os.path.join(path, img) for img in files_list]\n",
    "        file_path_list.sort()\n",
    "        return file_path_list\n",
    "\n",
    "\n",
    "    def __getitem__(self, index):\n",
    "        img_name = self.imgs[index]\n",
    "        #print(img_name[-5:-4])\n",
    "        img = Image.open(img_name)\n",
    "        if self.transform is not None:\n",
    "            img = self.transform(img) #Tensor [C H W] [1 128 128]\n",
    "        return img\n",
    "\n",
    "    def __len__(self):\n",
    "\n",
    "        return len(self.imgs)"
   ]
  },
  {
   "cell_type": "code",
   "execution_count": 21,
   "id": "f4b99062",
   "metadata": {
    "ExecuteTime": {
     "end_time": "2024-05-19T18:54:04.319089Z",
     "start_time": "2024-05-19T18:42:25.632318Z"
    }
   },
   "outputs": [
    {
     "name": "stdout",
     "output_type": "stream",
     "text": [
      "1000 iterations\n",
      "recon_error: 0.351\n",
      "perplexity: 11.912\n",
      "vq_loss: 545.941\n",
      "2000 iterations\n",
      "recon_error: 0.266\n",
      "perplexity: 14.101\n",
      "vq_loss: 1.435\n",
      "3000 iterations\n",
      "recon_error: 0.264\n",
      "perplexity: 15.202\n",
      "vq_loss: 0.994\n",
      "4000 iterations\n",
      "recon_error: 0.265\n",
      "perplexity: 15.449\n",
      "vq_loss: 1.357\n",
      "5000 iterations\n",
      "recon_error: 0.263\n",
      "perplexity: 15.702\n",
      "vq_loss: 0.295\n",
      "6000 iterations\n",
      "recon_error: 0.264\n",
      "perplexity: 15.530\n",
      "vq_loss: 1.328\n",
      "7000 iterations\n",
      "recon_error: 0.263\n",
      "perplexity: 14.631\n",
      "vq_loss: 0.471\n",
      "8000 iterations\n",
      "recon_error: 0.261\n",
      "perplexity: 12.600\n",
      "vq_loss: 0.055\n",
      "9000 iterations\n",
      "recon_error: 0.264\n",
      "perplexity: 11.910\n",
      "vq_loss: 1.513\n",
      "10000 iterations\n",
      "recon_error: 0.262\n",
      "perplexity: 10.337\n",
      "vq_loss: 0.083\n"
     ]
    }
   ],
   "source": [
    "from torchvision.utils import make_grid\n",
    "\n",
    "device = torch.device(\"cuda:0\" if torch.cuda.is_available() else \"cpu\")\n",
    "\n",
    "train_imgs_path = '../content/content/arial'\n",
    "tensorize_transform = transforms.Compose([transforms.Resize((128, 128)),\n",
    "                                          transforms.ToTensor()])\n",
    "\n",
    "train_dataset = CombTrain_VQ_VAE_dataset(train_imgs_path, transform=tensorize_transform)\n",
    "\n",
    "train_loader = DataLoader(train_dataset, batch_size=8, batch_sampler=None, drop_last=True, pin_memory=True, shuffle=True)\n",
    "\n",
    "num_training_updates = 10000\n",
    "\n",
    "embedding_dim = 256\n",
    "num_embeddings = 20\n",
    "\n",
    "commitment_cost = 0.25\n",
    "\n",
    "decay = 0\n",
    "\n",
    "learning_rate = 2e-4\n",
    "\n",
    "model = Model(num_embeddings, embedding_dim, commitment_cost, decay).to(device)\n",
    "model.apply(weights_init(\"xavier\"))\n",
    "\n",
    "optimizer = optim.Adam(model.parameters(), lr=learning_rate, amsgrad=False)\n",
    "\n",
    "model.train()\n",
    "train_res_recon_error = []\n",
    "train_res_perplexity = []\n",
    "train_vq_loss = []\n",
    "\n",
    "\n",
    "def val(model,validation_loader):\n",
    "    model.eval()\n",
    "\n",
    "    valid_originals = next(iter(validation_loader))\n",
    "    valid_originals = valid_originals.to(device)\n",
    "\n",
    "    vq_output_eval = model._encoder(valid_originals)\n",
    "    _, valid_quantize, _, _ = model._vq_vae(vq_output_eval)\n",
    "    valid_reconstructions = model._decoder(valid_quantize)\n",
    "\n",
    "def show(img):\n",
    "    npimg = img.numpy()\n",
    "    fig = plt.imshow(np.transpose(npimg, (1,2,0)), interpolation='nearest')\n",
    "    fig.axes.get_xaxis().set_visible(False)\n",
    "    fig.axes.get_yaxis().set_visible(False)\n",
    "\n",
    "\n",
    "for i in xrange(num_training_updates):\n",
    "    data = next(iter(train_loader))\n",
    "    train_data_variance = torch.var(data)\n",
    "    # print(train_data_variance)\n",
    "    # show(make_grid(data.cpu().data) )\n",
    "    # break\n",
    "    data = data - 0.5 # normalize to [-0.5, 0.5]\n",
    "    data = data.to(device)\n",
    "    optimizer.zero_grad()\n",
    "\n",
    "    vq_loss, data_recon, perplexity = model(data)\n",
    "    # data_recon重构图像\n",
    "    # print(\"vq_loss\\n\",vq_loss)\n",
    "    recon_error = F.mse_loss(data_recon, data) / train_data_variance\n",
    "    loss = recon_error + vq_loss\n",
    "    # 重构损失更新encoder以及decoder,vq_loss用来更新embedding空间\n",
    "    loss.backward()\n",
    "\n",
    "    optimizer.step()\n",
    "\n",
    "    train_res_recon_error.append(recon_error.item())\n",
    "    train_res_perplexity.append(perplexity.item())\n",
    "    train_vq_loss.append(vq_loss.item())\n",
    "\n",
    "    if (i + 1) % 1000 == 0:\n",
    "        print('%d iterations' % (i + 1))\n",
    "        print('recon_error: %.3f' % np.mean(train_res_recon_error[-1000:]))\n",
    "        print('perplexity: %.3f' % np.mean(train_res_perplexity[-1000:]))\n",
    "        print('vq_loss: %.3f' % np.mean(train_vq_loss[-1000:]))\n",
    "        print()\n",
    "        # show(make_grid(data.cpu().data) )"
   ]
  },
  {
   "cell_type": "code",
   "execution_count": 22,
   "id": "cf4ba5cd",
   "metadata": {
    "ExecuteTime": {
     "end_time": "2024-05-19T19:10:16.470228Z",
     "start_time": "2024-05-19T19:10:16.462679Z"
    }
   },
   "outputs": [],
   "source": [
    "val_imgs_path = '../content/content/arial'\n",
    "tensorize_transform = transforms.Compose([transforms.Resize((128, 128)),\n",
    "                                          transforms.ToTensor()])\n",
    "\n",
    "val_dataset = CombTrain_VQ_VAE_dataset(val_imgs_path, transform=tensorize_transform)\n",
    "\n",
    "validation_loader = DataLoader(val_dataset, batch_size=8, batch_sampler=None, drop_last=True, pin_memory=True, shuffle=True)"
   ]
  },
  {
   "cell_type": "code",
   "execution_count": 23,
   "id": "8453a418",
   "metadata": {
    "ExecuteTime": {
     "end_time": "2024-05-19T19:10:19.697303Z",
     "start_time": "2024-05-19T19:10:18.850330Z"
    }
   },
   "outputs": [
    {
     "name": "stderr",
     "output_type": "stream",
     "text": [
      "Clipping input data to the valid range for imshow with RGB data ([0..1] for floats or [0..255] for integers).\n"
     ]
    },
    {
     "data": {
      "text/plain": "<Figure size 640x480 with 1 Axes>",
      "image/png": "[encoded data removed]"
     },
     "metadata": {},
     "output_type": "display_data"
    }
   ],
   "source": [
    "def val_(model,validation_loader):\n",
    "    model.eval()\n",
    "\n",
    "    valid_originals = next(iter(validation_loader))\n",
    "    valid_originals = valid_originals.to(device)\n",
    "\n",
    "    vq_output_eval = model._encoder(valid_originals)\n",
    "    _, valid_quantize, _, _ = model._vq_vae(vq_output_eval)\n",
    "    valid_reconstructions = model._decoder(valid_quantize)\n",
    "    return valid_originals, valid_reconstructions\n",
    "    \n",
    "org, recon_out = val_(model, validation_loader)\n",
    "show(make_grid((org+0.5).cpu().data), )"
   ]
  },
  {
   "cell_type": "code",
   "execution_count": 24,
   "id": "239b2606",
   "metadata": {
    "ExecuteTime": {
     "end_time": "2024-05-19T19:10:30.243353Z",
     "start_time": "2024-05-19T19:10:30.177124Z"
    }
   },
   "outputs": [
    {
     "name": "stderr",
     "output_type": "stream",
     "text": [
      "Clipping input data to the valid range for imshow with RGB data ([0..1] for floats or [0..255] for integers).\n"
     ]
    },
    {
     "data": {
      "text/plain": "<Figure size 640x480 with 1 Axes>",
      "image/png": "[encoded data removed]"
     },
     "metadata": {},
     "output_type": "display_data"
    }
   ],
   "source": [
    "show(make_grid((recon_out+0.5).cpu().data), )"
   ]
  },
  {
   "cell_type": "code",
   "execution_count": 25,
   "id": "3a5e55be",
   "metadata": {
    "ExecuteTime": {
     "end_time": "2024-05-19T19:10:40.268736Z",
     "start_time": "2024-05-19T19:10:40.189812Z"
    }
   },
   "outputs": [],
   "source": [
    "torch.save(model,'../weight/VQ-VAE_chn_.pth')    #保存所有的网络参数\n",
    "torch.save(model.state_dict(),'../weight/VQ-VAE_Parms_chn_.pth')"
   ]
  },
  {
   "cell_type": "code",
   "execution_count": 35,
   "id": "5ec4963c",
   "metadata": {
    "ExecuteTime": {
     "end_time": "2024-05-19T19:15:35.353589Z",
     "start_time": "2024-05-19T19:15:33.964066Z"
    }
   },
   "outputs": [],
   "source": [
    "embedding_dim, num_embeddings, commitment_cost, decay = 256, 20, 0.25, 0\n",
    "device = torch.device(\"cuda\" if torch.cuda.is_available() else \"cpu\")\n",
    "model = Model(num_embeddings, embedding_dim, commitment_cost, decay).to(device)\n",
    "models = torch.load('../weight/VQ-VAE_chn_.pth')\n",
    "encoder = models._encoder\n",
    "encoder.requires_gradq = False\n",
    "encoder.to(\"cpu\")\n",
    "#定义dataset\n",
    "class CombTrain_VQ_VAE_dataset(Dataset):\n",
    "    def __init__(self, root, transform = None):\n",
    "        self.img_path = root\n",
    "        self.transform = transform\n",
    "        self.imgs = self.read_file(self.img_path)\n",
    "        # img = Image.open(self.imgs[0])\n",
    "        # img = self.transform(img)\n",
    "        # print(img.shape)\n",
    "\n",
    "\n",
    "    def read_file(self, path):\n",
    "        \"\"\"从文件夹中读取数据\"\"\"\n",
    "        files_list = os.listdir(path)\n",
    "        file_path_list = [os.path.join(path, img) for img in files_list]\n",
    "        file_path_list.sort()\n",
    "        return file_path_list\n",
    "\n",
    "\n",
    "    def __getitem__(self, index):\n",
    "        img_name = self.imgs[index]\n",
    "        img = Image.open(img_name)\n",
    "        if self.transform is not None:\n",
    "            img = self.transform(img) #Tensor [C H W] [1 128 128]\n",
    "        ret =(img_name, \n",
    "              img\n",
    "        )\n",
    "        return ret\n",
    "\n",
    "    def __len__(self):\n",
    "\n",
    "        return len(self.imgs)\n",
    "\n",
    "\n",
    "\n",
    "\n",
    "train_imgs_path = '../content/content/arial'\n",
    "tensorize_transform = transforms.Compose([transforms.Resize((128, 128)),\n",
    "                                          transforms.ToTensor()])\n",
    "\n",
    "batch = 42 # all content imgs\n",
    "\n",
    "sim_dataset = CombTrain_VQ_VAE_dataset(train_imgs_path, transform=tensorize_transform)\n",
    "\n",
    "sim_loader = DataLoader(sim_dataset, batch_size=batch, batch_sampler=None, drop_last=False, pin_memory=True)\n",
    "\n",
    "similarity = []\n",
    "\n",
    "def CosineSimilarity(tensor_1, tensor_2):\n",
    "    normalized_tensor_1 = tensor_1 / tensor_1.norm(dim=-1, keepdim=True)\n",
    "    normalized_tensor_2 = tensor_2 / tensor_2.norm(dim=-1, keepdim=True)\n",
    "    return (normalized_tensor_1 * normalized_tensor_2).sum(dim=-1)\n",
    "\n",
    "\n",
    "while True:\n",
    "    data = next(iter(sim_loader))\n",
    "    img_name = data[0]\n",
    "    img_tensor = data[1]\n",
    "    img_tensor = img_tensor - 0.5 # normalize to [-0.5, 0.5]\n",
    "    img_tensor = img_tensor.to(\"cpu\")\n",
    "    \n",
    "    #得到了conten的feature\n",
    "    content_feature = encoder(img_tensor)\n",
    "    # print(content_feature.shape)\n",
    "    vector = content_feature.view(content_feature.shape[0], -1)\n",
    "    # print(vector.shape)\n",
    "    \n",
    "    sim_all = {}\n",
    "    for i in range(0,batch):\n",
    "        char_i = hex(ord(img_name[i][-5]))[2:].upper()\n",
    "        dict_sim_i = {char_i:{}}\n",
    "        for j in range(0,batch):\n",
    "            char_j = hex(ord(img_name[j][-5]))[2:].upper()\n",
    "            similarity = CosineSimilarity(vector[i],vector[j])\n",
    "            if i==j:\n",
    "                similarity=1.0\n",
    "            sim_i2j = {char_j:float(similarity)}\n",
    "            dict_sim_i[char_i].update(sim_i2j)\n",
    "        sim_all.update(dict_sim_i)\n",
    "\n",
    "        \n",
    "    dict_json=json.dumps(sim_all)#转化为json格式文件\n",
    "\n",
    "    #将json文件保存为.json格式文件\n",
    "    with open('../weight/all_char_similarity_unicode.json','w+') as file:\n",
    "        file.write(dict_json)    \n",
    "    break"
   ]
  },
  {
   "cell_type": "code",
   "execution_count": 37,
   "id": "9318891b",
   "metadata": {
    "ExecuteTime": {
     "end_time": "2024-05-19T19:15:45.980974Z",
     "start_time": "2024-05-19T19:15:45.970560Z"
    }
   },
   "outputs": [
    {
     "name": "stdout",
     "output_type": "stream",
     "text": [
      "{'401': {'401': 1.0, '406': 0.13245829939842224, '410': 0.27371320128440857, '411': 0.4426781237125397, '412': 0.40454694628715515, '413': 0.30487126111984253, '414': 0.0639667809009552, '415': 0.4711122512817383, '416': 0.09897170960903168, '417': 0.33447933197021484, '418': 0.19642338156700134, '419': 0.19938364624977112, '41A': 0.2806146740913391, '41B': 0.32668954133987427, '41C': -0.005817259196192026, '41D': 0.1936502456665039, '41E': 0.23695823550224304, '41F': 0.33686888217926025, '420': 0.5593850016593933, '421': 0.3067821264266968, '422': 0.22638046741485596, '423': 0.16701123118400574, '424': 0.04042942821979523, '425': 0.16295862197875977, '426': -0.08804525434970856, '427': 0.45973336696624756, '428': 0.18969005346298218, '429': -0.16090787947177887, '42A': 0.20068711042404175, '42B': 0.10523731261491776, '42C': 0.36494526267051697, '42D': 0.24120032787322998, '42E': 0.11800938099622726, '42F': 0.4057858884334564, '492': 0.23477843403816223, '49A': 0.10258487612009048, '4A2': -0.11486786603927612, '4AE': 0.07830046117305756, '4B0': 0.3819589614868164, '4BA': 0.1426072120666504, '4D8': 0.2009894847869873, '4E8': 0.36583834886550903}, '406': {'401': 0.13245829939842224, '406': 1.0, '410': 0.09257441759109497, '411': 0.1302955150604248, '412': 0.12288317829370499, '413': 0.029597768560051918, '414': -0.03250531852245331, '415': 0.14984974265098572, '416': 0.39600276947021484, '417': 0.0912754088640213, '418': 0.009755432605743408, '419': 0.05552053451538086, '41A': -0.03268874064087868, '41B': 0.03682735562324524, '41C': 0.018900278955698013, '41D': 0.04509028419852257, '41E': 0.06692050397396088, '41F': 0.10398683696985245, '420': 0.13035398721694946, '421': 0.07530860602855682, '422': 0.6260427236557007, '423': 0.12078171968460083, '424': 0.43067461252212524, '425': -0.02262244001030922, '426': 0.0769326239824295, '427': 0.05123254284262657, '428': 0.4427304267883301, '429': 0.2516116499900818, '42A': -0.05355028063058853, '42B': 0.02705870196223259, '42C': 0.07180475443601608, '42D': 0.112378790974617, '42E': 0.057812221348285675, '42F': 0.045023899525403976, '492': 0.01520552858710289, '49A': 0.06355299800634384, '4A2': 0.06276564300060272, '4AE': 0.25850921869277954, '4B0': 0.21123391389846802, '4BA': 0.05589868873357773, '4D8': 0.07975822687149048, '4E8': 0.07836804538965225}, '410': {'401': 0.27371320128440857, '406': 0.09257441759109497, '410': 1.0, '411': 0.11601415276527405, '412': 0.10110832005739212, '413': 0.17100831866264343, '414': 0.11790333688259125, '415': -0.011965138837695122, '416': 0.12960854172706604, '417': 0.0768936425447464, '418': 0.0019377954304218292, '419': 0.07230617105960846, '41A': -0.03502865880727768, '41B': 0.292420357465744, '41C': 0.06909801065921783, '41D': 0.1285385936498642, '41E': -0.1252652406692505, '41F': 0.1551121473312378, '420': 0.18537655472755432, '421': -0.07152499258518219, '422': 0.03789939731359482, '423': 0.021235477179288864, '424': -0.06400830298662186, '425': 0.08971207588911057, '426': -0.014092030934989452, '427': 0.2558203339576721, '428': 0.02208268828690052, '429': -0.012384644709527493, '42A': -0.08296792209148407, '42B': -0.007412317208945751, '42C': 0.08215227723121643, '42D': -0.06313464790582657, '42E': 0.1467442810535431, '42F': 0.29665541648864746, '492': 0.07386849075555801, '49A': 0.2560616731643677, '4A2': 0.10029739886522293, '4AE': -0.1775544285774231, '4B0': 0.08399214595556259, '4BA': 0.24765881896018982, '4D8': -0.1203288659453392, '4E8': -0.06553283333778381}, '411': {'401': 0.4426781237125397, '406': 0.1302955150604248, '410': 0.11601415276527405, '411': 1.0, '412': 0.8942914605140686, '413': 0.5319830775260925, '414': 0.20067773759365082, '415': 0.8123736381530762, '416': 0.20755591988563538, '417': 0.7413791418075562, '418': 0.12753264605998993, '419': 0.13844367861747742, '41A': 0.24753527343273163, '41B': 0.4953692853450775, '41C': -0.08526280522346497, '41D': 0.394989013671875, '41E': 0.5299162864685059, '41F': 0.5080926418304443, '420': 0.4507187008857727, '421': 0.6147609949111938, '422': 0.4149835407733917, '423': 0.058921925723552704, '424': 0.07303221523761749, '425': 0.0018941310700029135, '426': 0.133287712931633, '427': 0.1487002819776535, '428': 0.1406070590019226, '429': 0.011282835155725479, '42A': 0.5242797136306763, '42B': 0.11562232673168182, '42C': 0.8449039459228516, '42D': 0.693373441696167, '42E': 0.19961333274841309, '42F': 0.5003302693367004, '492': 0.5687081813812256, '49A': 0.25532063841819763, '4A2': 0.04566096514463425, '4AE': 0.13832911849021912, '4B0': 0.2334384173154831, '4BA': 0.5162671208381653, '4D8': 0.7029103636741638, '4E8': 0.6553420424461365}, '412': {'401': 0.40454694628715515, '406': 0.12288317829370499, '410': 0.10110832005739212, '411': 0.8942914605140686, '412': 1.0, '413': 0.3564140796661377, '414': 0.1852622777223587, '415': 0.7611324191093445, '416': 0.27059870958328247, '417': 0.8043125867843628, '418': 0.15892641246318817, '419': 0.29411548376083374, '41A': 0.12758898735046387, '41B': 0.4380895495414734, '41C': -0.03925364464521408, '41D': 0.46098852157592773, '41E': 0.5420331954956055, '41F': 0.506334662437439, '420': 0.5109463930130005, '421': 0.6191952228546143, '422': 0.32628917694091797, '423': 0.14828968048095703, '424': 0.09175741672515869, '425': -0.017638148739933968, '426': 0.15842851996421814, '427': 0.21311351656913757, '428': 0.1422196328639984, '429': -0.00032649561762809753, '42A': 0.44180700182914734, '42B': 0.15951533615589142, '42C': 0.7715454697608948, '42D': 0.749189019203186, '42E': 0.09451672434806824, '42F': 0.4380803108215332, '492': 0.453777551651001, '49A': 0.10433081537485123, '4A2': 0.07639792561531067, '4AE': 0.13706663250923157, '4B0': 0.20237195491790771, '4BA': 0.4637218713760376, '4D8': 0.7243577837944031, '4E8': 0.6589494943618774}, '413': {'401': 0.30487126111984253, '406': 0.029597768560051918, '410': 0.17100831866264343, '411': 0.5319830775260925, '412': 0.3564140796661377, '413': 1.0, '414': 0.19567298889160156, '415': 0.5249634981155396, '416': -0.056536875665187836, '417': 0.39164984226226807, '418': 0.09150740504264832, '419': 0.06488147377967834, '41A': 0.4065694212913513, '41B': 0.7703289985656738, '41C': -0.006728840060532093, '41D': -0.03786327689886093, '41E': 0.36266353726387024, '41F': 0.4208439886569977, '420': 0.4547942578792572, '421': 0.42717406153678894, '422': 0.5126736760139465, '423': 0.10185452550649643, '424': 0.060503408312797546, '425': 0.11149963736534119, '426': 0.022160112857818604, '427': 0.05927645415067673, '428': 0.011143225245177746, '429': 0.002109219552949071, '42A': 0.20701099932193756, '42B': -0.016671158373355865, '42C': 0.18318112194538116, '42D': 0.301238477230072, '42E': 0.3798897862434387, '42F': 0.48983442783355713, '492': 0.8483330607414246, '49A': 0.2177688032388687, '4A2': -0.099488265812397, '4AE': 0.06474224478006363, '4B0': 0.08172611892223358, '4BA': 0.02545759454369545, '4D8': 0.34944096207618713, '4E8': 0.3509032726287842}, '414': {'401': 0.0639667809009552, '406': -0.03250531852245331, '410': 0.11790333688259125, '411': 0.20067773759365082, '412': 0.1852622777223587, '413': 0.19567298889160156, '414': 1.0, '415': 0.16710707545280457, '416': 0.03578832000494003, '417': 0.19391940534114838, '418': 0.1698436439037323, '419': 0.19240404665470123, '41A': 0.1818699836730957, '41B': 0.41800975799560547, '41C': 0.07933193445205688, '41D': 0.22963567078113556, '41E': 0.09607669711112976, '41F': 0.284251868724823, '420': 0.1398143321275711, '421': 0.1926584541797638, '422': 0.06446792185306549, '423': 0.08477331697940826, '424': 0.06599841266870499, '425': 0.11221621930599213, '426': 0.4999978244304657, '427': 0.22019049525260925, '428': -0.0743383914232254, '429': 0.15521493554115295, '42A': 0.13419392704963684, '42B': -0.08062178641557693, '42C': 0.20718225836753845, '42D': 0.18780967593193054, '42E': 0.09615200757980347, '42F': 0.22860832512378693, '492': 0.1022828221321106, '49A': 0.2755826711654663, '4A2': 0.2369631826877594, '4AE': 0.06505326926708221, '4B0': 0.051145039498806, '4BA': 0.26112693548202515, '4D8': 0.15195636451244354, '4E8': 0.08994691073894501}, '415': {'401': 0.4711122512817383, '406': 0.14984974265098572, '410': -0.011965138837695122, '411': 0.8123736381530762, '412': 0.7611324191093445, '413': 0.5249634981155396, '414': 0.16710707545280457, '415': 1.0, '416': 0.16412855684757233, '417': 0.536081850528717, '418': 0.13089461624622345, '419': 0.16581319272518158, '41A': 0.3173830509185791, '41B': 0.4436538815498352, '41C': 0.0026080412790179253, '41D': 0.43246474862098694, '41E': 0.4700571596622467, '41F': 0.5478777289390564, '420': 0.5193912982940674, '421': 0.538898229598999, '422': 0.4959608018398285, '423': 0.14688044786453247, '424': -0.05368732288479805, '425': 0.04501773416996002, '426': 0.08387239277362823, '427': 0.10790253430604935, '428': 0.29392480850219727, '429': -0.04067017510533333, '42A': 0.5017322301864624, '42B': 0.15386967360973358, '42C': 0.5902775526046753, '42D': 0.5785408020019531, '42E': 0.27207380533218384, '42F': 0.48759517073631287, '492': 0.601600170135498, '49A': 0.1384948492050171, '4A2': 0.014330866746604443, '4AE': 0.16917315125465393, '4B0': 0.18625834584236145, '4BA': 0.41259098052978516, '4D8': 0.6559852957725525, '4E8': 0.5750989317893982}, '416': {'401': 0.09897170960903168, '406': 0.39600276947021484, '410': 0.12960854172706604, '411': 0.20755591988563538, '412': 0.27059870958328247, '413': -0.056536875665187836, '414': 0.03578832000494003, '415': 0.16412855684757233, '416': 1.0, '417': 0.11519208550453186, '418': -0.02427425980567932, '419': 0.12401290237903595, '41A': -0.19457092881202698, '41B': -0.024165654554963112, '41C': 0.235743448138237, '41D': 0.4224078953266144, '41E': -0.029283415526151657, '41F': 0.10351182520389557, '420': 0.2466994822025299, '421': 0.015717869624495506, '422': 0.15780124068260193, '423': 0.11917197704315186, '424': 0.03960072249174118, '425': -0.31033995747566223, '426': 0.07617077231407166, '427': 0.1933141052722931, '428': 0.20319333672523499, '429': 0.15583638846874237, '42A': 0.16544269025325775, '42B': 0.15472882986068726, '42C': 0.2637140154838562, '42D': 0.2203344851732254, '42E': 0.06634756922721863, '42F': 0.1642039716243744, '492': 0.040255311876535416, '49A': -0.0760895311832428, '4A2': 0.21791690587997437, '4AE': -0.0100527573376894, '4B0': 0.1572328805923462, '4BA': 0.3394450843334198, '4D8': 0.19572243094444275, '4E8': 0.14955711364746094}, '417': {'401': 0.33447933197021484, '406': 0.0912754088640213, '410': 0.0768936425447464, '411': 0.7413791418075562, '412': 0.8043125867843628, '413': 0.39164984226226807, '414': 0.19391940534114838, '415': 0.536081850528717, '416': 0.11519208550453186, '417': 1.0, '418': 0.2281755805015564, '419': 0.29270678758621216, '41A': 0.13808512687683105, '41B': 0.4448615312576294, '41C': -0.08330944180488586, '41D': 0.18827298283576965, '41E': 0.5717206001281738, '41F': 0.34327882528305054, '420': 0.3616466522216797, '421': 0.6890460848808289, '422': 0.24235504865646362, '423': 0.13351914286613464, '424': 0.2878515124320984, '425': 0.12358865141868591, '426': 0.18958109617233276, '427': 0.11669206619262695, '428': 0.04439014941453934, '429': 0.09418383240699768, '42A': 0.3772415518760681, '42B': -0.0145599115639925, '42C': 0.6181384325027466, '42D': 0.7359469532966614, '42E': 0.04882928729057312, '42F': 0.36412131786346436, '492': 0.38378533720970154, '49A': 0.13799279928207397, '4A2': 0.027365121990442276, '4AE': 0.21066954731941223, '4B0': 0.1918536126613617, '4BA': 0.24093586206436157, '4D8': 0.6412895321846008, '4E8': 0.5855884552001953}, '418': {'401': 0.19642338156700134, '406': 0.009755432605743408, '410': 0.0019377954304218292, '411': 0.12753264605998993, '412': 0.15892641246318817, '413': 0.09150740504264832, '414': 0.1698436439037323, '415': 0.13089461624622345, '416': -0.02427425980567932, '417': 0.2281755805015564, '418': 1.0, '419': 0.5537184476852417, '41A': 0.35899707674980164, '41B': 0.2781940698623657, '41C': 0.10330620408058167, '41D': 0.45581382513046265, '41E': 0.2751544117927551, '41F': 0.4444943964481354, '420': 0.22782963514328003, '421': 0.29592546820640564, '422': 0.12215082347393036, '423': 0.08813319355249405, '424': 0.24402795732021332, '425': 0.5776461958885193, '426': 0.4321730434894562, '427': 0.3908466696739197, '428': -0.05248309299349785, '429': 0.04691708832979202, '42A': 0.09706387668848038, '42B': -0.030644182115793228, '42C': 0.17015834152698517, '42D': 0.3101120591163635, '42E': -0.15183483064174652, '42F': 0.48845773935317993, '492': 0.163255512714386, '49A': 0.039137087762355804, '4A2': 0.3589385151863098, '4AE': 0.34912896156311035, '4B0': 0.25024715065956116, '4BA': 0.31213492155075073, '4D8': 0.25946521759033203, '4E8': 0.27497392892837524}, '419': {'401': 0.19938364624977112, '406': 0.05552053451538086, '410': 0.07230617105960846, '411': 0.13844367861747742, '412': 0.29411548376083374, '413': 0.06488147377967834, '414': 0.19240404665470123, '415': 0.16581319272518158, '416': 0.12401290237903595, '417': 0.29270678758621216, '418': 0.5537184476852417, '419': 1.0, '41A': 0.015077370218932629, '41B': 0.2674140930175781, '41C': 0.03562000393867493, '41D': 0.35216253995895386, '41E': 0.3132837414741516, '41F': 0.41500532627105713, '420': 0.35819029808044434, '421': 0.34320810437202454, '422': -0.0006987424567341805, '423': 0.2652190029621124, '424': 0.193374365568161, '425': 0.13747644424438477, '426': 0.2889338731765747, '427': 0.30304616689682007, '428': 0.07746150344610214, '429': 0.044992923736572266, '42A': -0.05207452178001404, '42B': 0.005040440242737532, '42C': 0.11381936818361282, '42D': 0.38818252086639404, '42E': -0.11000775545835495, '42F': 0.287156879901886, '492': 0.07521621882915497, '49A': -0.12704607844352722, '4A2': 0.21328972280025482, '4AE': 0.06059388443827629, '4B0': -0.012643850408494473, '4BA': 0.20867425203323364, '4D8': 0.3281378746032715, '4E8': 0.3239434063434601}, '41A': {'401': 0.2806146740913391, '406': -0.03268874064087868, '410': -0.03502865880727768, '411': 0.24753527343273163, '412': 0.12758898735046387, '413': 0.4065694212913513, '414': 0.1818699836730957, '415': 0.3173830509185791, '416': -0.19457092881202698, '417': 0.13808512687683105, '418': 0.35899707674980164, '419': 0.015077370218932629, '41A': 1.0, '41B': 0.31316643953323364, '41C': -0.10942155867815018, '41D': 0.1897941529750824, '41E': 0.0844564437866211, '41F': 0.12182724475860596, '420': 0.17501097917556763, '421': 0.10704927146434784, '422': 0.17423991858959198, '423': 0.18928435444831848, '424': 0.02966272458434105, '425': 0.7218441963195801, '426': 0.02010340243577957, '427': 0.12025319039821625, '428': 0.016644110903143883, '429': 0.021643083542585373, '42A': 0.22269940376281738, '42B': 0.20293869078159332, '42C': 0.23755386471748352, '42D': 0.05556841194629669, '42E': 0.015988735482096672, '42F': 0.29366469383239746, '492': 0.5130106806755066, '49A': 0.43237411975860596, '4A2': 0.024168353527784348, '4AE': 0.4744539260864258, '4B0': 0.4035041332244873, '4BA': 0.24267350137233734, '4D8': 0.14802566170692444, '4E8': 0.13438287377357483}, '41B': {'401': 0.32668954133987427, '406': 0.03682735562324524, '410': 0.292420357465744, '411': 0.4953692853450775, '412': 0.4380895495414734, '413': 0.7703289985656738, '414': 0.41800975799560547, '415': 0.4436538815498352, '416': -0.024165654554963112, '417': 0.4448615312576294, '418': 0.2781940698623657, '419': 0.2674140930175781, '41A': 0.31316643953323364, '41B': 1.0, '41C': -0.1034441664814949, '41D': 0.20628361403942108, '41E': 0.3013794422149658, '41F': 0.5807934999465942, '420': 0.5302677154541016, '421': 0.39849692583084106, '422': 0.4007582664489746, '423': 0.06805232167243958, '424': 0.07640381157398224, '425': 0.19867339730262756, '426': 0.1801619529724121, '427': 0.36737027764320374, '428': 0.01759091392159462, '429': -0.019673995673656464, '42A': 0.1377895474433899, '42B': -0.15702731907367706, '42C': 0.2153172791004181, '42D': 0.4001353979110718, '42E': 0.27200090885162354, '42F': 0.6342898011207581, '492': 0.62720787525177, '49A': 0.17617446184158325, '4A2': 0.031058652326464653, '4AE': 0.027550825849175453, '4B0': 0.07667809724807739, '4BA': 0.18047302961349487, '4D8': 0.337939590215683, '4E8': 0.3122643828392029}, '41C': {'401': -0.005817259196192026, '406': 0.018900278955698013, '410': 0.06909801065921783, '411': -0.08526280522346497, '412': -0.03925364464521408, '413': -0.006728840060532093, '414': 0.07933193445205688, '415': 0.0026080412790179253, '416': 0.235743448138237, '417': -0.08330944180488586, '418': 0.10330620408058167, '419': 0.03562000393867493, '41A': -0.10942155867815018, '41B': -0.1034441664814949, '41C': 1.0, '41D': 0.18488848209381104, '41E': 0.17963182926177979, '41F': 0.08727195858955383, '420': 0.05502950772643089, '421': 0.034837596118450165, '422': 0.08463957905769348, '423': 0.3342832326889038, '424': 0.07307390868663788, '425': 0.02595159038901329, '426': 0.19499097764492035, '427': 0.11270930618047714, '428': 0.19316229224205017, '429': 0.1037457138299942, '42A': 0.23264646530151367, '42B': 0.46249836683273315, '42C': -0.04167487844824791, '42D': 0.016014747321605682, '42E': 0.01723855920135975, '42F': 0.1289670318365097, '492': -0.013700795359909534, '49A': -0.13378174602985382, '4A2': 0.1487027406692505, '4AE': 0.12471817433834076, '4B0': 0.14219892024993896, '4BA': 0.024767903611063957, '4D8': 0.10720694065093994, '4E8': 0.18632155656814575}, '41D': {'401': 0.1936502456665039, '406': 0.04509028419852257, '410': 0.1285385936498642, '411': 0.394989013671875, '412': 0.46098852157592773, '413': -0.03786327689886093, '414': 0.22963567078113556, '415': 0.43246474862098694, '416': 0.4224078953266144, '417': 0.18827298283576965, '418': 0.45581382513046265, '419': 0.35216253995895386, '41A': 0.1897941529750824, '41B': 0.20628361403942108, '41C': 0.18488848209381104, '41D': 1.0, '41E': 0.08044551312923431, '41F': 0.47830796241760254, '420': 0.39577123522758484, '421': 0.0991453006863594, '422': 0.07637691497802734, '423': 0.23303937911987305, '424': -0.11934769153594971, '425': 0.1596771627664566, '426': 0.3114835023880005, '427': 0.45795223116874695, '428': -0.03583400696516037, '429': -0.09221863746643066, '42A': 0.28822967410087585, '42B': 0.16052010655403137, '42C': 0.500540554523468, '42D': 0.385780930519104, '42E': -0.07888926565647125, '42F': 0.5640326738357544, '492': 0.22604520618915558, '49A': 0.08290644735097885, '4A2': 0.40567076206207275, '4AE': 0.18178941309452057, '4B0': 0.32985180616378784, '4BA': 0.7566984295845032, '4D8': 0.44211214780807495, '4E8': 0.35647767782211304}, '41E': {'401': 0.23695823550224304, '406': 0.06692050397396088, '410': -0.1252652406692505, '411': 0.5299162864685059, '412': 0.5420331954956055, '413': 0.36266353726387024, '414': 0.09607669711112976, '415': 0.4700571596622467, '416': -0.029283415526151657, '417': 0.5717206001281738, '418': 0.2751544117927551, '419': 0.3132837414741516, '41A': 0.0844564437866211, '41B': 0.3013794422149658, '41C': 0.17963182926177979, '41D': 0.08044551312923431, '41E': 1.0, '41F': 0.5387557744979858, '420': 0.3230323791503906, '421': 0.8924990892410278, '422': 0.32101374864578247, '423': 0.016644882038235664, '424': 0.5201776027679443, '425': 0.01943698152899742, '426': 0.2983241677284241, '427': 0.02368619665503502, '428': 0.15942761301994324, '429': 0.20531708002090454, '42A': 0.2307664453983307, '42B': 0.1681697517633438, '42C': 0.3111214339733124, '42D': 0.7127455472946167, '42E': 0.0004095491021871567, '42F': 0.31878650188446045, '492': 0.3009234070777893, '49A': -0.005203541833907366, '4A2': 0.0014648372307419777, '4AE': 0.051657505333423615, '4B0': -0.0912478044629097, '4BA': -0.014313768595457077, '4D8': 0.7898296117782593, '4E8': 0.8770958185195923}, '41F': {'401': 0.33686888217926025, '406': 0.10398683696985245, '410': 0.1551121473312378, '411': 0.5080926418304443, '412': 0.506334662437439, '413': 0.4208439886569977, '414': 0.284251868724823, '415': 0.5478777289390564, '416': 0.10351182520389557, '417': 0.34327882528305054, '418': 0.4444943964481354, '419': 0.41500532627105713, '41A': 0.12182724475860596, '41B': 0.5807934999465942, '41C': 0.08727195858955383, '41D': 0.47830796241760254, '41E': 0.5387557744979858, '41F': 1.0, '420': 0.6078665256500244, '421': 0.5729554891586304, '422': 0.5826239585876465, '423': 0.04577726870775223, '424': 0.18385183811187744, '425': 0.1097361221909523, '426': 0.39371007680892944, '427': 0.3799307942390442, '428': 0.0008286470547318459, '429': -0.03178859502077103, '42A': 0.06033341959118843, '42B': -0.0427432507276535, '42C': 0.19704501330852509, '42D': 0.5505044460296631, '42E': 0.08016131073236465, '42F': 0.6635218262672424, '492': 0.3657263517379761, '49A': 0.0310130063444376, '4A2': 0.24512574076652527, '4AE': 0.047581832855939865, '4B0': 0.04260866343975067, '4BA': 0.28350621461868286, '4D8': 0.5040543079376221, '4E8': 0.5313323736190796}, '420': {'401': 0.5593850016593933, '406': 0.13035398721694946, '410': 0.18537655472755432, '411': 0.4507187008857727, '412': 0.5109463930130005, '413': 0.4547942578792572, '414': 0.1398143321275711, '415': 0.5193912982940674, '416': 0.2466994822025299, '417': 0.3616466522216797, '418': 0.22782963514328003, '419': 0.35819029808044434, '41A': 0.17501097917556763, '41B': 0.5302677154541016, '41C': 0.05502950772643089, '41D': 0.39577123522758484, '41E': 0.3230323791503906, '41F': 0.6078665256500244, '420': 1.0, '421': 0.3559612035751343, '422': 0.414192259311676, '423': 0.22116407752037048, '424': -0.02571006864309311, '425': 0.07900828123092651, '426': 0.04818161949515343, '427': 0.49044156074523926, '428': -0.017870105803012848, '429': -0.0854189395904541, '42A': 0.11594372987747192, '42B': 0.037281349301338196, '42C': 0.19730031490325928, '42D': 0.4665379524230957, '42E': 0.04873981326818466, '42F': 0.6822240352630615, '492': 0.4341268241405487, '49A': -0.021984495222568512, '4A2': -0.038346387445926666, '4AE': 0.014827242121100426, '4B0': 0.2992825508117676, '4BA': 0.1631380021572113, '4D8': 0.4126320481300354, '4E8': 0.49329042434692383}, '421': {'401': 0.3067821264266968, '406': 0.07530860602855682, '410': -0.07152499258518219, '411': 0.6147609949111938, '412': 0.6191952228546143, '413': 0.42717406153678894, '414': 0.1926584541797638, '415': 0.538898229598999, '416': 0.015717869624495506, '417': 0.6890460848808289, '418': 0.29592546820640564, '419': 0.34320810437202454, '41A': 0.10704927146434784, '41B': 0.39849692583084106, '41C': 0.034837596118450165, '41D': 0.0991453006863594, '41E': 0.8924990892410278, '41F': 0.5729554891586304, '420': 0.3559612035751343, '421': 1.0, '422': 0.32514795660972595, '423': 0.051099687814712524, '424': 0.46953535079956055, '425': 0.0274554044008255, '426': 0.3713986575603485, '427': 0.0788496881723404, '428': 0.08664052933454514, '429': 0.14462654292583466, '42A': 0.22447681427001953, '42B': 0.03833956643939018, '42C': 0.40286290645599365, '42D': 0.6682363152503967, '42E': 0.16672250628471375, '42F': 0.3206021785736084, '492': 0.3583556115627289, '49A': 0.06011277437210083, '4A2': 0.07578734308481216, '4AE': 0.06642216444015503, '4B0': -0.07195653766393661, '4BA': 0.04418270289897919, '4D8': 0.7649023532867432, '4E8': 0.7777125835418701}, '422': {'401': 0.22638046741485596, '406': 0.6260427236557007, '410': 0.03789939731359482, '411': 0.4149835407733917, '412': 0.32628917694091797, '413': 0.5126736760139465, '414': 0.06446792185306549, '415': 0.4959608018398285, '416': 0.15780124068260193, '417': 0.24235504865646362, '418': 0.12215082347393036, '419': -0.0006987424567341805, '41A': 0.17423991858959198, '41B': 0.4007582664489746, '41C': 0.08463957905769348, '41D': 0.07637691497802734, '41E': 0.32101374864578247, '41F': 0.5826239585876465, '420': 0.414192259311676, '421': 0.32514795660972595, '422': 1.0, '423': 0.13033680617809296, '424': 0.23372524976730347, '425': 0.11099221557378769, '426': 0.1156027615070343, '427': 0.12579232454299927, '428': 0.27159547805786133, '429': 0.11303696036338806, '42A': 0.08838459849357605, '42B': -0.018572237342596054, '42C': 0.06853499263525009, '42D': 0.28853529691696167, '42E': 0.19934885203838348, '42F': 0.3995494842529297, '492': 0.44685399532318115, '49A': 0.1130550354719162, '4A2': -0.019272366538643837, '4AE': 0.3031403422355652, '4B0': 0.2455378770828247, '4BA': 0.00657724728807807, '4D8': 0.2610948979854584, '4E8': 0.2935054898262024}, '423': {'401': 0.16701123118400574, '406': 0.12078171968460083, '410': 0.021235477179288864, '411': 0.058921925723552704, '412': 0.14828968048095703, '413': 0.10185452550649643, '414': 0.08477331697940826, '415': 0.14688044786453247, '416': 0.11917197704315186, '417': 0.13351914286613464, '418': 0.08813319355249405, '419': 0.2652190029621124, '41A': 0.18928435444831848, '41B': 0.06805232167243958, '41C': 0.3342832326889038, '41D': 0.23303937911987305, '41E': 0.016644882038235664, '41F': 0.04577726870775223, '420': 0.22116407752037048, '421': 0.051099687814712524, '422': 0.13033680617809296, '423': 1.0, '424': -0.06970126181840897, '425': 0.20360572636127472, '426': 0.09456014633178711, '427': 0.2337029129266739, '428': 0.09656761586666107, '429': -0.014222269877791405, '42A': 0.17501366138458252, '42B': 0.11744704842567444, '42C': 0.13661468029022217, '42D': 0.036106791347265244, '42E': -0.08316048979759216, '42F': 0.06959176063537598, '492': 0.09943276643753052, '49A': -0.13545453548431396, '4A2': 0.18406014144420624, '4AE': 0.47171634435653687, '4B0': 0.4344960153102875, '4BA': 0.12744785845279694, '4D8': 0.08878953754901886, '4E8': 0.06072445213794708}, '424': {'401': 0.04042942821979523, '406': 0.43067461252212524, '410': -0.06400830298662186, '411': 0.07303221523761749, '412': 0.09175741672515869, '413': 0.060503408312797546, '414': 0.06599841266870499, '415': -0.05368732288479805, '416': 0.03960072249174118, '417': 0.2878515124320984, '418': 0.24402795732021332, '419': 0.193374365568161, '41A': 0.02966272458434105, '41B': 0.07640381157398224, '41C': 0.07307390868663788, '41D': -0.11934769153594971, '41E': 0.5201776027679443, '41F': 0.18385183811187744, '420': -0.02571006864309311, '421': 0.46953535079956055, '422': 0.23372524976730347, '423': -0.06970126181840897, '424': 1.0, '425': 0.055719517171382904, '426': 0.38955914974212646, '427': -0.08837158232927322, '428': 0.10583463311195374, '429': 0.2999316453933716, '42A': -0.09303262829780579, '42B': 0.03348817676305771, '42C': 0.02881951630115509, '42D': 0.31661343574523926, '42E': -0.05294264107942581, '42F': -0.04425964504480362, '492': -0.04497050493955612, '49A': 0.026141971349716187, '4A2': 0.1036902442574501, '4AE': 0.16409438848495483, '4B0': -0.05965705215930939, '4BA': -0.1297207921743393, '4D8': 0.34518730640411377, '4E8': 0.3661799430847168}, '425': {'401': 0.16295862197875977, '406': -0.02262244001030922, '410': 0.08971207588911057, '411': 0.0018941310700029135, '412': -0.017638148739933968, '413': 0.11149963736534119, '414': 0.11221621930599213, '415': 0.04501773416996002, '416': -0.31033995747566223, '417': 0.12358865141868591, '418': 0.5776461958885193, '419': 0.13747644424438477, '41A': 0.7218441963195801, '41B': 0.19867339730262756, '41C': 0.02595159038901329, '41D': 0.1596771627664566, '41E': 0.01943698152899742, '41F': 0.1097361221909523, '420': 0.07900828123092651, '421': 0.0274554044008255, '422': 0.11099221557378769, '423': 0.20360572636127472, '424': 0.055719517171382904, '425': 1.0, '426': 0.06913017481565475, '427': 0.1668296754360199, '428': 0.049410417675971985, '429': 0.06709495186805725, '42A': 0.1480383723974228, '42B': 0.136753648519516, '42C': 0.05167649686336517, '42D': -0.008469326421618462, '42E': -0.11550869047641754, '42F': 0.2937130331993103, '492': 0.2146606743335724, '49A': 0.33651918172836304, '4A2': 0.14467665553092957, '4AE': 0.6099504232406616, '4B0': 0.4673704206943512, '4BA': 0.1525610089302063, '4D8': -0.009767837822437286, '4E8': -0.004215688444674015}, '426': {'401': -0.08804525434970856, '406': 0.0769326239824295, '410': -0.014092030934989452, '411': 0.133287712931633, '412': 0.15842851996421814, '413': 0.022160112857818604, '414': 0.4999978244304657, '415': 0.08387239277362823, '416': 0.07617077231407166, '417': 0.18958109617233276, '418': 0.4321730434894562, '419': 0.2889338731765747, '41A': 0.02010340243577957, '41B': 0.1801619529724121, '41C': 0.19499097764492035, '41D': 0.3114835023880005, '41E': 0.2983241677284241, '41F': 0.39371007680892944, '420': 0.04818161949515343, '421': 0.3713986575603485, '422': 0.1156027615070343, '423': 0.09456014633178711, '424': 0.38955914974212646, '425': 0.06913017481565475, '426': 1.0, '427': 0.26946863532066345, '428': -0.07754851132631302, '429': 0.2391635775566101, '42A': 0.05292458087205887, '42B': 0.0052766986191272736, '42C': 0.1696755588054657, '42D': 0.31618601083755493, '42E': 0.023229513317346573, '42F': 0.1525704264640808, '492': -0.02994726598262787, '49A': 0.09641864150762558, '4A2': 0.5471542477607727, '4AE': 0.04329950734972954, '4B0': -0.03295094147324562, '4BA': 0.20756468176841736, '4D8': 0.27896201610565186, '4E8': 0.25616514682769775}, '427': {'401': 0.45973336696624756, '406': 0.05123254284262657, '410': 0.2558203339576721, '411': 0.1487002819776535, '412': 0.21311351656913757, '413': 0.05927645415067673, '414': 0.22019049525260925, '415': 0.10790253430604935, '416': 0.1933141052722931, '417': 0.11669206619262695, '418': 0.3908466696739197, '419': 0.30304616689682007, '41A': 0.12025319039821625, '41B': 0.36737027764320374, '41C': 0.11270930618047714, '41D': 0.45795223116874695, '41E': 0.02368619665503502, '41F': 0.3799307942390442, '420': 0.49044156074523926, '421': 0.0788496881723404, '422': 0.12579232454299927, '423': 0.2337029129266739, '424': -0.08837158232927322, '425': 0.1668296754360199, '426': 0.26946863532066345, '427': 1.0, '428': -0.10515694320201874, '429': -0.19079366326332092, '42A': 0.020946791395545006, '42B': -0.10581908375024796, '42C': 0.17247405648231506, '42D': 0.11928828805685043, '42E': 0.019926592707633972, '42F': 0.47124576568603516, '492': 0.06886686384677887, '49A': 0.015523962676525116, '4A2': 0.11796707659959793, '4AE': 0.015906544402241707, '4B0': 0.37402039766311646, '4BA': 0.22562822699546814, '4D8': 0.0034218942746520042, '4E8': 0.2033010870218277}, '428': {'401': 0.18969005346298218, '406': 0.4427304267883301, '410': 0.02208268828690052, '411': 0.1406070590019226, '412': 0.1422196328639984, '413': 0.011143225245177746, '414': -0.0743383914232254, '415': 0.29392480850219727, '416': 0.20319333672523499, '417': 0.04439014941453934, '418': -0.05248309299349785, '419': 0.07746150344610214, '41A': 0.016644110903143883, '41B': 0.01759091392159462, '41C': 0.19316229224205017, '41D': -0.03583400696516037, '41E': 0.15942761301994324, '41F': 0.0008286470547318459, '420': -0.017870105803012848, '421': 0.08664052933454514, '422': 0.27159547805786133, '423': 0.09656761586666107, '424': 0.10583463311195374, '425': 0.049410417675971985, '426': -0.07754851132631302, '427': -0.10515694320201874, '428': 1.0, '429': 0.4489433765411377, '42A': 0.2095278799533844, '42B': 0.4837183952331543, '42C': 0.12542247772216797, '42D': 0.08935219794511795, '42E': 0.22444941103458405, '42F': -0.023471631109714508, '492': 0.003957316279411316, '49A': -0.04896317422389984, '4A2': -0.06958422809839249, '4AE': 0.06361618638038635, '4B0': -0.018895689398050308, '4BA': -0.00852656178176403, '4D8': 0.0904659628868103, '4E8': 0.1138363853096962}, '429': {'401': -0.16090787947177887, '406': 0.2516116499900818, '410': -0.012384644709527493, '411': 0.011282835155725479, '412': -0.00032649561762809753, '413': 0.002109219552949071, '414': 0.15521493554115295, '415': -0.04067017510533333, '416': 0.15583638846874237, '417': 0.09418383240699768, '418': 0.04691708832979202, '419': 0.044992923736572266, '41A': 0.021643083542585373, '41B': -0.019673995673656464, '41C': 0.1037457138299942, '41D': -0.09221863746643066, '41E': 0.20531708002090454, '41F': -0.03178859502077103, '420': -0.0854189395904541, '421': 0.14462654292583466, '422': 0.11303696036338806, '423': -0.014222269877791405, '424': 0.2999316453933716, '425': 0.06709495186805725, '426': 0.2391635775566101, '427': -0.19079366326332092, '428': 0.4489433765411377, '429': 1.0, '42A': 0.02514931932091713, '42B': 0.2568202614784241, '42C': 0.020997554063796997, '42D': 0.14040708541870117, '42E': 0.11140745878219604, '42F': -0.043299876153469086, '492': -0.042055051773786545, '49A': -0.020238608121871948, '4A2': 0.0011991187930107117, '4AE': 0.005726656410843134, '4B0': -0.1180865615606308, '4BA': -0.03160201013088226, '4D8': 0.12421584129333496, '4E8': 0.1117367148399353}, '42A': {'401': 0.20068711042404175, '406': -0.05355028063058853, '410': -0.08296792209148407, '411': 0.5242797136306763, '412': 0.44180700182914734, '413': 0.20701099932193756, '414': 0.13419392704963684, '415': 0.5017322301864624, '416': 0.16544269025325775, '417': 0.3772415518760681, '418': 0.09706387668848038, '419': -0.05207452178001404, '41A': 0.22269940376281738, '41B': 0.1377895474433899, '41C': 0.23264646530151367, '41D': 0.28822967410087585, '41E': 0.2307664453983307, '41F': 0.06033341959118843, '420': 0.11594372987747192, '421': 0.22447681427001953, '422': 0.08838459849357605, '423': 0.17501366138458252, '424': -0.09303262829780579, '425': 0.1480383723974228, '426': 0.05292458087205887, '427': 0.020946791395545006, '428': 0.2095278799533844, '429': 0.02514931932091713, '42A': 1.0, '42B': 0.2104196548461914, '42C': 0.6010328531265259, '42D': 0.3930302858352661, '42E': 0.143880233168602, '42F': 0.20658676326274872, '492': 0.29092758893966675, '49A': 0.18791449069976807, '4A2': 0.06665410101413727, '4AE': 0.261270672082901, '4B0': 0.31352823972702026, '4BA': 0.3980189859867096, '4D8': 0.43555623292922974, '4E8': 0.3621688485145569}, '42B': {'401': 0.10523731261491776, '406': 0.02705870196223259, '410': -0.007412317208945751, '411': 0.11562232673168182, '412': 0.15951533615589142, '413': -0.016671158373355865, '414': -0.08062178641557693, '415': 0.15386967360973358, '416': 0.15472882986068726, '417': -0.0145599115639925, '418': -0.030644182115793228, '419': 0.005040440242737532, '41A': 0.20293869078159332, '41B': -0.15702731907367706, '41C': 0.46249836683273315, '41D': 0.16052010655403137, '41E': 0.1681697517633438, '41F': -0.0427432507276535, '420': 0.037281349301338196, '421': 0.03833956643939018, '422': -0.018572237342596054, '423': 0.11744704842567444, '424': 0.03348817676305771, '425': 0.136753648519516, '426': 0.0052766986191272736, '427': -0.10581908375024796, '428': 0.4837183952331543, '429': 0.2568202614784241, '42A': 0.2104196548461914, '42B': 1.0, '42C': 0.17418131232261658, '42D': 0.07100701332092285, '42E': 0.02382267825305462, '42F': 0.05868852883577347, '492': 0.1738172024488449, '49A': 0.03131352737545967, '4A2': -0.047695547342300415, '4AE': 0.043703995645046234, '4B0': 0.08587712794542313, '4BA': 0.044574566185474396, '4D8': 0.2208128273487091, '4E8': 0.2789826989173889}, '42C': {'401': 0.36494526267051697, '406': 0.07180475443601608, '410': 0.08215227723121643, '411': 0.8449039459228516, '412': 0.7715454697608948, '413': 0.18318112194538116, '414': 0.20718225836753845, '415': 0.5902775526046753, '416': 0.2637140154838562, '417': 0.6181384325027466, '418': 0.17015834152698517, '419': 0.11381936818361282, '41A': 0.23755386471748352, '41B': 0.2153172791004181, '41C': -0.04167487844824791, '41D': 0.500540554523468, '41E': 0.3111214339733124, '41F': 0.19704501330852509, '420': 0.19730031490325928, '421': 0.40286290645599365, '422': 0.06853499263525009, '423': 0.13661468029022217, '424': 0.02881951630115509, '425': 0.05167649686336517, '426': 0.1696755588054657, '427': 0.17247405648231506, '428': 0.12542247772216797, '429': 0.020997554063796997, '42A': 0.6010328531265259, '42B': 0.17418131232261658, '42C': 1.0, '42D': 0.545271635055542, '42E': 0.06607063114643097, '42F': 0.27578914165496826, '492': 0.279762864112854, '49A': 0.29386454820632935, '4A2': 0.1815216839313507, '4AE': 0.19080141186714172, '4B0': 0.3051362633705139, '4BA': 0.6805210113525391, '4D8': 0.554128885269165, '4E8': 0.4790647029876709}, '42D': {'401': 0.24120032787322998, '406': 0.112378790974617, '410': -0.06313464790582657, '411': 0.693373441696167, '412': 0.749189019203186, '413': 0.301238477230072, '414': 0.18780967593193054, '415': 0.5785408020019531, '416': 0.2203344851732254, '417': 0.7359469532966614, '418': 0.3101120591163635, '419': 0.38818252086639404, '41A': 0.05556841194629669, '41B': 0.4001353979110718, '41C': 0.016014747321605682, '41D': 0.385780930519104, '41E': 0.7127455472946167, '41F': 0.5505044460296631, '420': 0.4665379524230957, '421': 0.6682363152503967, '422': 0.28853529691696167, '423': 0.036106791347265244, '424': 0.31661343574523926, '425': -0.008469326421618462, '426': 0.31618601083755493, '427': 0.11928828805685043, '428': 0.08935219794511795, '429': 0.14040708541870117, '42A': 0.3930302858352661, '42B': 0.07100701332092285, '42C': 0.545271635055542, '42D': 1.0, '42E': -0.11747612804174423, '42F': 0.46762800216674805, '492': 0.30365991592407227, '49A': -0.02044236846268177, '4A2': 0.12219081073999405, '4AE': 0.10117607563734055, '4B0': 0.05769161880016327, '4BA': 0.29258573055267334, '4D8': 0.8125452995300293, '4E8': 0.7469668388366699}, '42E': {'401': 0.11800938099622726, '406': 0.057812221348285675, '410': 0.1467442810535431, '411': 0.19961333274841309, '412': 0.09451672434806824, '413': 0.3798897862434387, '414': 0.09615200757980347, '415': 0.27207380533218384, '416': 0.06634756922721863, '417': 0.04882928729057312, '418': -0.15183483064174652, '419': -0.11000775545835495, '41A': 0.015988735482096672, '41B': 0.27200090885162354, '41C': 0.01723855920135975, '41D': -0.07888926565647125, '41E': 0.0004095491021871567, '41F': 0.08016131073236465, '420': 0.04873981326818466, '421': 0.16672250628471375, '422': 0.19934885203838348, '423': -0.08316048979759216, '424': -0.05294264107942581, '425': -0.11550869047641754, '426': 0.023229513317346573, '427': 0.019926592707633972, '428': 0.22444941103458405, '429': 0.11140745878219604, '42A': 0.143880233168602, '42B': 0.02382267825305462, '42C': 0.06607063114643097, '42D': -0.11747612804174423, '42E': 1.0, '42F': 0.04344318062067032, '492': 0.35345831513404846, '49A': 0.12205058336257935, '4A2': -0.06392768025398254, '4AE': -0.06623256206512451, '4B0': -0.014559146016836166, '4BA': -0.048059672117233276, '4D8': 0.04682721570134163, '4E8': 0.018949855118989944}, '42F': {'401': 0.4057858884334564, '406': 0.045023899525403976, '410': 0.29665541648864746, '411': 0.5003302693367004, '412': 0.4380803108215332, '413': 0.48983442783355713, '414': 0.22860832512378693, '415': 0.48759517073631287, '416': 0.1642039716243744, '417': 0.36412131786346436, '418': 0.48845773935317993, '419': 0.287156879901886, '41A': 0.29366469383239746, '41B': 0.6342898011207581, '41C': 0.1289670318365097, '41D': 0.5640326738357544, '41E': 0.31878650188446045, '41F': 0.6635218262672424, '420': 0.6822240352630615, '421': 0.3206021785736084, '422': 0.3995494842529297, '423': 0.06959176063537598, '424': -0.04425964504480362, '425': 0.2937130331993103, '426': 0.1525704264640808, '427': 0.47124576568603516, '428': -0.023471631109714508, '429': -0.043299876153469086, '42A': 0.20658676326274872, '42B': 0.05868852883577347, '42C': 0.27578914165496826, '42D': 0.46762800216674805, '42E': 0.04344318062067032, '42F': 1.0, '492': 0.5548262596130371, '49A': 0.09427119791507721, '4A2': 0.03498729318380356, '4AE': 0.07970912754535675, '4B0': 0.28485849499702454, '4BA': 0.36914190649986267, '4D8': 0.40569180250167847, '4E8': 0.4753722548484802}, '492': {'401': 0.23477843403816223, '406': 0.01520552858710289, '410': 0.07386849075555801, '411': 0.5687081813812256, '412': 0.453777551651001, '413': 0.8483330607414246, '414': 0.1022828221321106, '415': 0.601600170135498, '416': 0.040255311876535416, '417': 0.38378533720970154, '418': 0.163255512714386, '419': 0.07521621882915497, '41A': 0.5130106806755066, '41B': 0.62720787525177, '41C': -0.013700795359909534, '41D': 0.22604520618915558, '41E': 0.3009234070777893, '41F': 0.3657263517379761, '420': 0.4341268241405487, '421': 0.3583556115627289, '422': 0.44685399532318115, '423': 0.09943276643753052, '424': -0.04497050493955612, '425': 0.2146606743335724, '426': -0.02994726598262787, '427': 0.06886686384677887, '428': 0.003957316279411316, '429': -0.042055051773786545, '42A': 0.29092758893966675, '42B': 0.1738172024488449, '42C': 0.279762864112854, '42D': 0.30365991592407227, '42E': 0.35345831513404846, '42F': 0.5548262596130371, '492': 1.0, '49A': 0.223536878824234, '4A2': -0.09633629024028778, '4AE': 0.20157292485237122, '4B0': 0.23033374547958374, '4BA': 0.17505136132240295, '4D8': 0.46502307057380676, '4E8': 0.4205854833126068}, '49A': {'401': 0.10258487612009048, '406': 0.06355299800634384, '410': 0.2560616731643677, '411': 0.25532063841819763, '412': 0.10433081537485123, '413': 0.2177688032388687, '414': 0.2755826711654663, '415': 0.1384948492050171, '416': -0.0760895311832428, '417': 0.13799279928207397, '418': 0.039137087762355804, '419': -0.12704607844352722, '41A': 0.43237411975860596, '41B': 0.17617446184158325, '41C': -0.13378174602985382, '41D': 0.08290644735097885, '41E': -0.005203541833907366, '41F': 0.0310130063444376, '420': -0.021984495222568512, '421': 0.06011277437210083, '422': 0.1130550354719162, '423': -0.13545453548431396, '424': 0.026141971349716187, '425': 0.33651918172836304, '426': 0.09641864150762558, '427': 0.015523962676525116, '428': -0.04896317422389984, '429': -0.020238608121871948, '42A': 0.18791449069976807, '42B': 0.03131352737545967, '42C': 0.29386454820632935, '42D': -0.02044236846268177, '42E': 0.12205058336257935, '42F': 0.09427119791507721, '492': 0.223536878824234, '49A': 1.0, '4A2': 0.2207077294588089, '4AE': 0.06406886875629425, '4B0': 0.10665081441402435, '4BA': 0.3009175658226013, '4D8': 0.048719488084316254, '4E8': 0.008367487229406834}, '4A2': {'401': -0.11486786603927612, '406': 0.06276564300060272, '410': 0.10029739886522293, '411': 0.04566096514463425, '412': 0.07639792561531067, '413': -0.099488265812397, '414': 0.2369631826877594, '415': 0.014330866746604443, '416': 0.21791690587997437, '417': 0.027365121990442276, '418': 0.3589385151863098, '419': 0.21328972280025482, '41A': 0.024168353527784348, '41B': 0.031058652326464653, '41C': 0.1487027406692505, '41D': 0.40567076206207275, '41E': 0.0014648372307419777, '41F': 0.24512574076652527, '420': -0.038346387445926666, '421': 0.07578734308481216, '422': -0.019272366538643837, '423': 0.18406014144420624, '424': 0.1036902442574501, '425': 0.14467665553092957, '426': 0.5471542477607727, '427': 0.11796707659959793, '428': -0.06958422809839249, '429': 0.0011991187930107117, '42A': 0.06665410101413727, '42B': -0.047695547342300415, '42C': 0.1815216839313507, '42D': 0.12219081073999405, '42E': -0.06392768025398254, '42F': 0.03498729318380356, '492': -0.09633629024028778, '49A': 0.2207077294588089, '4A2': 1.0, '4AE': 0.2041160613298416, '4B0': 0.053017497062683105, '4BA': 0.4359129071235657, '4D8': 0.1135324165225029, '4E8': -0.0184810571372509}, '4AE': {'401': 0.07830046117305756, '406': 0.25850921869277954, '410': -0.1775544285774231, '411': 0.13832911849021912, '412': 0.13706663250923157, '413': 0.06474224478006363, '414': 0.06505326926708221, '415': 0.16917315125465393, '416': -0.0100527573376894, '417': 0.21066954731941223, '418': 0.34912896156311035, '419': 0.06059388443827629, '41A': 0.4744539260864258, '41B': 0.027550825849175453, '41C': 0.12471817433834076, '41D': 0.18178941309452057, '41E': 0.051657505333423615, '41F': 0.047581832855939865, '420': 0.014827242121100426, '421': 0.06642216444015503, '422': 0.3031403422355652, '423': 0.47171634435653687, '424': 0.16409438848495483, '425': 0.6099504232406616, '426': 0.04329950734972954, '427': 0.015906544402241707, '428': 0.06361618638038635, '429': 0.005726656410843134, '42A': 0.261270672082901, '42B': 0.043703995645046234, '42C': 0.19080141186714172, '42D': 0.10117607563734055, '42E': -0.06623256206512451, '42F': 0.07970912754535675, '492': 0.20157292485237122, '49A': 0.06406886875629425, '4A2': 0.2041160613298416, '4AE': 1.0, '4B0': 0.7501301169395447, '4BA': 0.18183329701423645, '4D8': 0.1334894299507141, '4E8': 0.06900635361671448}, '4B0': {'401': 0.3819589614868164, '406': 0.21123391389846802, '410': 0.08399214595556259, '411': 0.2334384173154831, '412': 0.20237195491790771, '413': 0.08172611892223358, '414': 0.051145039498806, '415': 0.18625834584236145, '416': 0.1572328805923462, '417': 0.1918536126613617, '418': 0.25024715065956116, '419': -0.012643850408494473, '41A': 0.4035041332244873, '41B': 0.07667809724807739, '41C': 0.14219892024993896, '41D': 0.32985180616378784, '41E': -0.0912478044629097, '41F': 0.04260866343975067, '420': 0.2992825508117676, '421': -0.07195653766393661, '422': 0.2455378770828247, '423': 0.4344960153102875, '424': -0.05965705215930939, '425': 0.4673704206943512, '426': -0.03295094147324562, '427': 0.37402039766311646, '428': -0.018895689398050308, '429': -0.1180865615606308, '42A': 0.31352823972702026, '42B': 0.08587712794542313, '42C': 0.3051362633705139, '42D': 0.05769161880016327, '42E': -0.014559146016836166, '42F': 0.28485849499702454, '492': 0.23033374547958374, '49A': 0.10665081441402435, '4A2': 0.053017497062683105, '4AE': 0.7501301169395447, '4B0': 1.0, '4BA': 0.2716062366962433, '4D8': 0.06957588344812393, '4E8': 0.16091646254062653}, '4BA': {'401': 0.1426072120666504, '406': 0.05589868873357773, '410': 0.24765881896018982, '411': 0.5162671208381653, '412': 0.4637218713760376, '413': 0.02545759454369545, '414': 0.26112693548202515, '415': 0.41259098052978516, '416': 0.3394450843334198, '417': 0.24093586206436157, '418': 0.31213492155075073, '419': 0.20867425203323364, '41A': 0.24267350137233734, '41B': 0.18047302961349487, '41C': 0.024767903611063957, '41D': 0.7566984295845032, '41E': -0.014313768595457077, '41F': 0.28350621461868286, '420': 0.1631380021572113, '421': 0.04418270289897919, '422': 0.00657724728807807, '423': 0.12744785845279694, '424': -0.1297207921743393, '425': 0.1525610089302063, '426': 0.20756468176841736, '427': 0.22562822699546814, '428': -0.00852656178176403, '429': -0.03160201013088226, '42A': 0.3980189859867096, '42B': 0.044574566185474396, '42C': 0.6805210113525391, '42D': 0.29258573055267334, '42E': -0.048059672117233276, '42F': 0.36914190649986267, '492': 0.17505136132240295, '49A': 0.3009175658226013, '4A2': 0.4359129071235657, '4AE': 0.18183329701423645, '4B0': 0.2716062366962433, '4BA': 1.0, '4D8': 0.3353731632232666, '4E8': 0.19896391034126282}, '4D8': {'401': 0.2009894847869873, '406': 0.07975822687149048, '410': -0.1203288659453392, '411': 0.7029103636741638, '412': 0.7243577837944031, '413': 0.34944096207618713, '414': 0.15195636451244354, '415': 0.6559852957725525, '416': 0.19572243094444275, '417': 0.6412895321846008, '418': 0.25946521759033203, '419': 0.3281378746032715, '41A': 0.14802566170692444, '41B': 0.337939590215683, '41C': 0.10720694065093994, '41D': 0.44211214780807495, '41E': 0.7898296117782593, '41F': 0.5040543079376221, '420': 0.4126320481300354, '421': 0.7649023532867432, '422': 0.2610948979854584, '423': 0.08878953754901886, '424': 0.34518730640411377, '425': -0.009767837822437286, '426': 0.27896201610565186, '427': 0.0034218942746520042, '428': 0.0904659628868103, '429': 0.12421584129333496, '42A': 0.43555623292922974, '42B': 0.2208128273487091, '42C': 0.554128885269165, '42D': 0.8125452995300293, '42E': 0.04682721570134163, '42F': 0.40569180250167847, '492': 0.46502307057380676, '49A': 0.048719488084316254, '4A2': 0.1135324165225029, '4AE': 0.1334894299507141, '4B0': 0.06957588344812393, '4BA': 0.3353731632232666, '4D8': 1.0, '4E8': 0.8883137702941895}, '4E8': {'401': 0.36583834886550903, '406': 0.07836804538965225, '410': -0.06553283333778381, '411': 0.6553420424461365, '412': 0.6589494943618774, '413': 0.3509032726287842, '414': 0.08994691073894501, '415': 0.5750989317893982, '416': 0.14955711364746094, '417': 0.5855884552001953, '418': 0.27497392892837524, '419': 0.3239434063434601, '41A': 0.13438287377357483, '41B': 0.3122643828392029, '41C': 0.18632155656814575, '41D': 0.35647767782211304, '41E': 0.8770958185195923, '41F': 0.5313323736190796, '420': 0.49329042434692383, '421': 0.7777125835418701, '422': 0.2935054898262024, '423': 0.06072445213794708, '424': 0.3661799430847168, '425': -0.004215688444674015, '426': 0.25616514682769775, '427': 0.2033010870218277, '428': 0.1138363853096962, '429': 0.1117367148399353, '42A': 0.3621688485145569, '42B': 0.2789826989173889, '42C': 0.4790647029876709, '42D': 0.7469668388366699, '42E': 0.018949855118989944, '42F': 0.4753722548484802, '492': 0.4205854833126068, '49A': 0.008367487229406834, '4A2': -0.0184810571372509, '4AE': 0.06900635361671448, '4B0': 0.16091646254062653, '4BA': 0.19896391034126282, '4D8': 0.8883137702941895, '4E8': 1.0}}\n"
     ]
    }
   ],
   "source": [
    "with open('../weight/all_char_similarity_unicode.json','r+') as file:\n",
    "    content=file.read()\n",
    "    \n",
    "content=json.loads(content)#将json格式文件转化为python的字典文件\n",
    "print(content)"
   ]
  },
  {
   "cell_type": "code",
   "outputs": [],
   "source": [],
   "metadata": {
    "collapsed": false
   },
   "id": "f33a5e70412c65c7"
  }
 ],
 "metadata": {
  "kernelspec": {
   "display_name": "fontgen",
   "language": "python",
   "name": "fontgen"
  },
  "language_info": {
   "codemirror_mode": {
    "name": "ipython",
    "version": 3
   },
   "file_extension": ".py",
   "mimetype": "text/x-python",
   "name": "python",
   "nbconvert_exporter": "python",
   "pygments_lexer": "ipython3",
   "version": "3.7.13"
  }
 },
 "nbformat": 4,
 "nbformat_minor": 5
}
