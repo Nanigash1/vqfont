{
 "cells": [
  {
   "cell_type": "code",
   "execution_count": 2,
   "id": "a37b285f-a1f7-4995-ae20-858b052df71c",
   "metadata": {
    "tags": []
   },
   "outputs": [
    {
     "name": "stdout",
     "output_type": "stream",
     "text": [
      "Collecting numpy\n",
      "  Using cached numpy-1.26.4-cp39-cp39-manylinux_2_17_x86_64.manylinux2014_x86_64.whl (18.2 MB)\n",
      "Collecting opencv-python\n",
      "  Using cached opencv_python-4.9.0.80-cp37-abi3-manylinux_2_17_x86_64.manylinux2014_x86_64.whl (62.2 MB)\n",
      "Collecting lmdb\n",
      "  Using cached lmdb-1.4.1-cp39-cp39-manylinux_2_17_x86_64.manylinux2014_x86_64.whl (298 kB)\n",
      "Collecting Pillow\n",
      "  Using cached pillow-10.3.0-cp39-cp39-manylinux_2_28_x86_64.whl (4.5 MB)\n",
      "Collecting tqdm\n",
      "  Using cached tqdm-4.66.4-py3-none-any.whl (78 kB)\n",
      "Requirement already satisfied: PyYAML in /home/studio-lab-user/.conda/envs/default/lib/python3.9/site-packages (6.0.1)\n",
      "Collecting pygame\n",
      "  Using cached pygame-2.5.2-cp39-cp39-manylinux_2_17_x86_64.manylinux2014_x86_64.whl (14.0 MB)\n",
      "Collecting scipy\n",
      "  Using cached scipy-1.13.1-cp39-cp39-manylinux_2_17_x86_64.manylinux2014_x86_64.whl (38.6 MB)\n",
      "Collecting scikit-image\n",
      "  Using cached scikit_image-0.22.0-cp39-cp39-manylinux_2_17_x86_64.manylinux2014_x86_64.whl (14.7 MB)\n",
      "Collecting einops\n",
      "  Using cached einops-0.8.0-py3-none-any.whl (43 kB)\n",
      "Collecting seaborn\n",
      "  Using cached seaborn-0.13.2-py3-none-any.whl (294 kB)\n",
      "Collecting matplotlib\n",
      "  Using cached matplotlib-3.9.0-cp39-cp39-manylinux_2_17_x86_64.manylinux2014_x86_64.whl (8.3 MB)\n",
      "Requirement already satisfied: packaging>=21 in /home/studio-lab-user/.conda/envs/default/lib/python3.9/site-packages (from scikit-image) (24.0)\n",
      "Collecting networkx>=2.8\n",
      "  Using cached networkx-3.2.1-py3-none-any.whl (1.6 MB)\n",
      "Collecting tifffile>=2022.8.12\n",
      "  Using cached tifffile-2024.5.22-py3-none-any.whl (225 kB)\n",
      "Collecting lazy_loader>=0.3\n",
      "  Using cached lazy_loader-0.4-py3-none-any.whl (12 kB)\n",
      "Collecting imageio>=2.27\n",
      "  Using cached imageio-2.34.1-py3-none-any.whl (313 kB)\n",
      "Collecting pandas>=1.2\n",
      "  Using cached pandas-2.2.2-cp39-cp39-manylinux_2_17_x86_64.manylinux2014_x86_64.whl (13.1 MB)\n",
      "Collecting contourpy>=1.0.1\n",
      "  Using cached contourpy-1.2.1-cp39-cp39-manylinux_2_17_x86_64.manylinux2014_x86_64.whl (304 kB)\n",
      "Collecting pyparsing>=2.3.1\n",
      "  Using cached pyparsing-3.1.2-py3-none-any.whl (103 kB)\n",
      "Collecting cycler>=0.10\n",
      "  Using cached cycler-0.12.1-py3-none-any.whl (8.3 kB)\n",
      "Requirement already satisfied: python-dateutil>=2.7 in /home/studio-lab-user/.conda/envs/default/lib/python3.9/site-packages (from matplotlib) (2.9.0)\n",
      "Collecting fonttools>=4.22.0\n",
      "  Using cached fonttools-4.52.4-cp39-cp39-manylinux_2_17_x86_64.manylinux2014_x86_64.whl (4.6 MB)\n",
      "Collecting kiwisolver>=1.3.1\n",
      "  Using cached kiwisolver-1.4.5-cp39-cp39-manylinux_2_12_x86_64.manylinux2010_x86_64.whl (1.6 MB)\n",
      "Requirement already satisfied: importlib-resources>=3.2.0 in /home/studio-lab-user/.conda/envs/default/lib/python3.9/site-packages (from matplotlib) (6.4.0)\n",
      "Requirement already satisfied: zipp>=3.1.0 in /home/studio-lab-user/.conda/envs/default/lib/python3.9/site-packages (from importlib-resources>=3.2.0->matplotlib) (3.17.0)\n",
      "Collecting tzdata>=2022.7\n",
      "  Using cached tzdata-2024.1-py2.py3-none-any.whl (345 kB)\n",
      "Requirement already satisfied: pytz>=2020.1 in /home/studio-lab-user/.conda/envs/default/lib/python3.9/site-packages (from pandas>=1.2->seaborn) (2024.1)\n",
      "Requirement already satisfied: six>=1.5 in /home/studio-lab-user/.conda/envs/default/lib/python3.9/site-packages (from python-dateutil>=2.7->matplotlib) (1.16.0)\n",
      "Installing collected packages: numpy, tzdata, pyparsing, Pillow, kiwisolver, fonttools, cycler, contourpy, tifffile, scipy, pandas, networkx, matplotlib, lazy-loader, imageio, tqdm, seaborn, scikit-image, pygame, opencv-python, lmdb, einops\n",
      "Successfully installed Pillow-10.3.0 contourpy-1.2.1 cycler-0.12.1 einops-0.8.0 fonttools-4.52.4 imageio-2.34.1 kiwisolver-1.4.5 lazy-loader-0.4 lmdb-1.4.1 matplotlib-3.9.0 networkx-3.2.1 numpy-1.26.4 opencv-python-4.9.0.80 pandas-2.2.2 pygame-2.5.2 pyparsing-3.1.2 scikit-image-0.22.0 scipy-1.13.1 seaborn-0.13.2 tifffile-2024.5.22 tqdm-4.66.4 tzdata-2024.1\n",
      "Note: you may need to restart the kernel to use updated packages.\n"
     ]
    }
   ],
   "source": [
    "pip install numpy opencv-python lmdb Pillow tqdm PyYAML pygame scipy scikit-image einops seaborn matplotlib"
   ]
  },
  {
   "cell_type": "code",
   "execution_count": 3,
   "id": "a115c5fe-870b-4a72-930e-abf845eb5849",
   "metadata": {
    "tags": []
   },
   "outputs": [
    {
     "name": "stdout",
     "output_type": "stream",
     "text": [
      "Collecting apex\n",
      "  Using cached apex-0.9.10.dev0-py3-none-any.whl\n",
      "Collecting sconf\n",
      "  Using cached sconf-0.2.5-py3-none-any.whl (8.8 kB)\n",
      "Collecting pyramid-mailer\n",
      "  Using cached pyramid_mailer-0.15.1-py2.py3-none-any.whl (19 kB)\n",
      "Collecting pyramid>1.1.2\n",
      "  Using cached pyramid-2.0.2-py3-none-any.whl (247 kB)\n",
      "Collecting wtforms-recaptcha\n",
      "  Using cached wtforms_recaptcha-0.3.2-py2.py3-none-any.whl (7.5 kB)\n",
      "Collecting wtforms\n",
      "  Using cached wtforms-3.1.2-py3-none-any.whl (145 kB)\n",
      "Collecting zope.sqlalchemy\n",
      "  Using cached zope.sqlalchemy-3.1-py3-none-any.whl (23 kB)\n",
      "Collecting cryptacular\n",
      "  Using cached cryptacular-1.6.2-cp39-cp39-linux_x86_64.whl\n",
      "Collecting velruse>=1.0.3\n",
      "  Using cached velruse-1.1.1-py3-none-any.whl\n",
      "Requirement already satisfied: requests in /home/studio-lab-user/.conda/envs/default/lib/python3.9/site-packages (from apex) (2.31.0)\n",
      "Collecting ruamel.yaml\n",
      "  Downloading ruamel.yaml-0.18.6-py3-none-any.whl (117 kB)\n",
      "\u001b[K     |████████████████████████████████| 117 kB 5.7 MB/s eta 0:00:01\n",
      "\u001b[?25hCollecting munch\n",
      "  Using cached munch-4.0.0-py2.py3-none-any.whl (9.9 kB)\n",
      "Collecting plaster\n",
      "  Using cached plaster-1.1.2-py2.py3-none-any.whl (11 kB)\n",
      "Collecting plaster-pastedeploy\n",
      "  Using cached plaster_pastedeploy-1.0.1-py2.py3-none-any.whl (7.8 kB)\n",
      "Collecting hupper>=1.5\n",
      "  Using cached hupper-1.12.1-py3-none-any.whl (22 kB)\n",
      "Collecting zope.deprecation>=3.5.0\n",
      "  Using cached zope.deprecation-5.0-py3-none-any.whl (10 kB)\n",
      "Collecting webob>=1.8.3\n",
      "  Using cached WebOb-1.8.7-py2.py3-none-any.whl (114 kB)\n",
      "Requirement already satisfied: setuptools in /home/studio-lab-user/.conda/envs/default/lib/python3.9/site-packages (from pyramid>1.1.2->apex) (69.5.1)\n",
      "Collecting venusian>=1.0\n",
      "  Using cached venusian-3.1.0-py3-none-any.whl (13 kB)\n",
      "Collecting translationstring>=0.4\n",
      "  Using cached translationstring-1.4-py2.py3-none-any.whl (15 kB)\n",
      "Collecting zope.interface>=3.8.0\n",
      "  Using cached zope.interface-6.4.post2-cp39-cp39-manylinux_2_5_x86_64.manylinux1_x86_64.manylinux_2_17_x86_64.manylinux2014_x86_64.whl (246 kB)\n",
      "Collecting python3-openid\n",
      "  Using cached python3_openid-3.2.0-py3-none-any.whl (133 kB)\n",
      "Collecting anykeystore\n",
      "  Using cached anykeystore-0.2-py3-none-any.whl\n",
      "Collecting requests-oauthlib\n",
      "  Using cached requests_oauthlib-2.0.0-py2.py3-none-any.whl (24 kB)\n",
      "Collecting pbkdf2\n",
      "  Using cached pbkdf2-1.3-py3-none-any.whl\n",
      "Collecting PasteDeploy>=2.0\n",
      "  Using cached PasteDeploy-3.1.0-py3-none-any.whl (16 kB)\n",
      "Collecting transaction\n",
      "  Using cached transaction-4.0-py3-none-any.whl (46 kB)\n",
      "Collecting repoze.sendmail>=4.1\n",
      "  Using cached repoze.sendmail-4.4.1-py2.py3-none-any.whl (41 kB)\n",
      "Requirement already satisfied: defusedxml in /home/studio-lab-user/.conda/envs/default/lib/python3.9/site-packages (from python3-openid->velruse>=1.0.3->apex) (0.7.1)\n",
      "Requirement already satisfied: urllib3<3,>=1.21.1 in /home/studio-lab-user/.conda/envs/default/lib/python3.9/site-packages (from requests->apex) (2.2.1)\n",
      "Requirement already satisfied: certifi>=2017.4.17 in /home/studio-lab-user/.conda/envs/default/lib/python3.9/site-packages (from requests->apex) (2024.2.2)\n",
      "Requirement already satisfied: idna<4,>=2.5 in /home/studio-lab-user/.conda/envs/default/lib/python3.9/site-packages (from requests->apex) (3.6)\n",
      "Requirement already satisfied: charset-normalizer<4,>=2 in /home/studio-lab-user/.conda/envs/default/lib/python3.9/site-packages (from requests->apex) (3.3.2)\n",
      "Collecting oauthlib>=3.0.0\n",
      "  Using cached oauthlib-3.2.2-py3-none-any.whl (151 kB)\n",
      "Collecting ruamel.yaml.clib>=0.2.7\n",
      "  Downloading ruamel.yaml.clib-0.2.8-cp39-cp39-manylinux_2_5_x86_64.manylinux1_x86_64.whl (562 kB)\n",
      "\u001b[K     |████████████████████████████████| 562 kB 58.9 MB/s eta 0:00:01\n",
      "\u001b[?25hRequirement already satisfied: markupsafe in /home/studio-lab-user/.conda/envs/default/lib/python3.9/site-packages (from wtforms->apex) (2.1.5)\n",
      "Collecting SQLAlchemy!=1.4.0,!=1.4.1,!=1.4.2,!=1.4.3,!=1.4.4,!=1.4.5,!=1.4.6,>=1.1\n",
      "  Downloading SQLAlchemy-2.0.30-cp39-cp39-manylinux_2_17_x86_64.manylinux2014_x86_64.whl (3.1 MB)\n",
      "\u001b[K     |████████████████████████████████| 3.1 MB 102.9 MB/s eta 0:00:01\n",
      "\u001b[?25hRequirement already satisfied: packaging in /home/studio-lab-user/.conda/envs/default/lib/python3.9/site-packages (from zope.sqlalchemy->apex) (24.0)\n",
      "Collecting greenlet!=0.4.17\n",
      "  Downloading greenlet-3.0.3-cp39-cp39-manylinux_2_24_x86_64.manylinux_2_28_x86_64.whl (614 kB)\n",
      "\u001b[K     |████████████████████████████████| 614 kB 71.2 MB/s eta 0:00:01\n",
      "\u001b[?25hRequirement already satisfied: typing-extensions>=4.6.0 in /home/studio-lab-user/.conda/envs/default/lib/python3.9/site-packages (from SQLAlchemy!=1.4.0,!=1.4.1,!=1.4.2,!=1.4.3,!=1.4.4,!=1.4.5,!=1.4.6,>=1.1->zope.sqlalchemy->apex) (4.11.0)\n",
      "Installing collected packages: zope.interface, plaster, PasteDeploy, zope.deprecation, webob, venusian, translationstring, transaction, plaster-pastedeploy, oauthlib, hupper, greenlet, wtforms, SQLAlchemy, ruamel.yaml.clib, requests-oauthlib, repoze.sendmail, python3-openid, pyramid, pbkdf2, anykeystore, zope.sqlalchemy, wtforms-recaptcha, velruse, ruamel.yaml, pyramid-mailer, munch, cryptacular, sconf, apex\n",
      "Successfully installed PasteDeploy-3.1.0 SQLAlchemy-2.0.30 anykeystore-0.2 apex-0.9.10.dev0 cryptacular-1.6.2 greenlet-3.0.3 hupper-1.12.1 munch-4.0.0 oauthlib-3.2.2 pbkdf2-1.3 plaster-1.1.2 plaster-pastedeploy-1.0.1 pyramid-2.0.2 pyramid-mailer-0.15.1 python3-openid-3.2.0 repoze.sendmail-4.4.1 requests-oauthlib-2.0.0 ruamel.yaml-0.18.6 ruamel.yaml.clib-0.2.8 sconf-0.2.5 transaction-4.0 translationstring-1.4 velruse-1.1.1 venusian-3.1.0 webob-1.8.7 wtforms-3.1.2 wtforms-recaptcha-0.3.2 zope.deprecation-5.0 zope.interface-6.4.post2 zope.sqlalchemy-3.1\n",
      "Note: you may need to restart the kernel to use updated packages.\n"
     ]
    }
   ],
   "source": [
    "pip install apex sconf"
   ]
  },
  {
   "cell_type": "code",
   "execution_count": 7,
   "id": "e42ae1f5-3eb1-41ed-a1c5-f56fd98c523d",
   "metadata": {
    "tags": []
   },
   "outputs": [
    {
     "name": "stdout",
     "output_type": "stream",
     "text": [
      "Looking in indexes: https://download.pytorch.org/whl/cu118\n",
      "Collecting torch\n",
      "  Downloading https://download.pytorch.org/whl/cu118/torch-2.3.0%2Bcu118-cp39-cp39-linux_x86_64.whl (839.7 MB)\n",
      "\u001b[K     |████████████▎                   | 322.4 MB 137.7 MB/s eta 0:00:04"
     ]
    },
    {
     "name": "stderr",
     "output_type": "stream",
     "text": [
      "IOPub data rate exceeded.\n",
      "The Jupyter server will temporarily stop sending output\n",
      "to the client in order to avoid crashing it.\n",
      "To change this limit, set the config variable\n",
      "`--ServerApp.iopub_data_rate_limit`.\n",
      "\n",
      "Current values:\n",
      "ServerApp.iopub_data_rate_limit=1000000.0 (bytes/sec)\n",
      "ServerApp.rate_limit_window=3.0 (secs)\n",
      "\n"
     ]
    },
    {
     "name": "stdout",
     "output_type": "stream",
     "text": [
      "\u001b[K     |███████████████████████▌        | 617.1 MB 136.8 MB/s eta 0:00:02"
     ]
    },
    {
     "name": "stderr",
     "output_type": "stream",
     "text": [
      "IOPub data rate exceeded.\n",
      "The Jupyter server will temporarily stop sending output\n",
      "to the client in order to avoid crashing it.\n",
      "To change this limit, set the config variable\n",
      "`--ServerApp.iopub_data_rate_limit`.\n",
      "\n",
      "Current values:\n",
      "ServerApp.iopub_data_rate_limit=1000000.0 (bytes/sec)\n",
      "ServerApp.rate_limit_window=3.0 (secs)\n",
      "\n"
     ]
    },
    {
     "name": "stdout",
     "output_type": "stream",
     "text": [
      "\u001b[K     |█████████████████████████████▎  | 767.5 MB 129.7 MB/s eta 0:00:01"
     ]
    },
    {
     "name": "stderr",
     "output_type": "stream",
     "text": [
      "IOPub data rate exceeded.\n",
      "The Jupyter server will temporarily stop sending output\n",
      "to the client in order to avoid crashing it.\n",
      "To change this limit, set the config variable\n",
      "`--ServerApp.iopub_data_rate_limit`.\n",
      "\n",
      "Current values:\n",
      "ServerApp.iopub_data_rate_limit=1000000.0 (bytes/sec)\n",
      "ServerApp.rate_limit_window=3.0 (secs)\n",
      "\n"
     ]
    },
    {
     "name": "stdout",
     "output_type": "stream",
     "text": [
      "\u001b[K     |████████████████████████████████| 839.7 MB 8.2 kB/s \n",
      "\u001b[?25hCollecting torchvision\n",
      "  Downloading https://download.pytorch.org/whl/cu118/torchvision-0.18.0%2Bcu118-cp39-cp39-linux_x86_64.whl (6.3 MB)\n",
      "\u001b[K     |████████████████████████████████| 6.3 MB 122.8 MB/s eta 0:00:01\n",
      "\u001b[?25hCollecting torchaudio\n",
      "  Downloading https://download.pytorch.org/whl/cu118/torchaudio-2.3.0%2Bcu118-cp39-cp39-linux_x86_64.whl (3.3 MB)\n",
      "\u001b[K     |████████████████████████████████| 3.3 MB 66.3 MB/s eta 0:00:01\n",
      "\u001b[?25hCollecting nvidia-nccl-cu11==2.20.5\n",
      "  Downloading https://download.pytorch.org/whl/cu118/nvidia_nccl_cu11-2.20.5-py3-none-manylinux2014_x86_64.whl (142.9 MB)\n",
      "\u001b[K     |████████████████████████████████| 142.9 MB 111.6 MB/s eta 0:00:01\n",
      "\u001b[?25hCollecting nvidia-cuda-cupti-cu11==11.8.87\n",
      "  Downloading https://download.pytorch.org/whl/cu118/nvidia_cuda_cupti_cu11-11.8.87-py3-none-manylinux1_x86_64.whl (13.1 MB)\n",
      "\u001b[K     |████████████████████████████████| 13.1 MB 48.2 MB/s eta 0:00:01\n",
      "\u001b[?25hCollecting sympy\n",
      "  Downloading https://download.pytorch.org/whl/sympy-1.12-py3-none-any.whl (5.7 MB)\n",
      "\u001b[K     |████████████████████████████████| 5.7 MB 90.8 MB/s eta 0:00:01\n",
      "\u001b[?25hRequirement already satisfied: typing-extensions>=4.8.0 in /home/studio-lab-user/.conda/envs/default/lib/python3.9/site-packages (from torch) (4.11.0)\n",
      "Collecting nvidia-cusolver-cu11==11.4.1.48\n",
      "  Downloading https://download.pytorch.org/whl/cu118/nvidia_cusolver_cu11-11.4.1.48-py3-none-manylinux1_x86_64.whl (128.2 MB)\n",
      "\u001b[K     |████████████████████████████████| 128.2 MB 144.0 MB/s eta 0:00:01\n",
      "\u001b[?25hCollecting nvidia-cuda-runtime-cu11==11.8.89\n",
      "  Downloading https://download.pytorch.org/whl/cu118/nvidia_cuda_runtime_cu11-11.8.89-py3-none-manylinux1_x86_64.whl (875 kB)\n",
      "\u001b[K     |████████████████████████████████| 875 kB 96.5 MB/s eta 0:00:01\n",
      "\u001b[?25hCollecting triton==2.3.0\n",
      "  Downloading https://download.pytorch.org/whl/triton-2.3.0-cp39-cp39-manylinux_2_17_x86_64.manylinux2014_x86_64.whl (168.1 MB)\n",
      "\u001b[K     |████████████████████████████████| 168.1 MB 32 kB/s s eta 0:00:01\n",
      "\u001b[?25hCollecting nvidia-cuda-nvrtc-cu11==11.8.89\n",
      "  Downloading https://download.pytorch.org/whl/cu118/nvidia_cuda_nvrtc_cu11-11.8.89-py3-none-manylinux1_x86_64.whl (23.2 MB)\n",
      "\u001b[K     |████████████████████████████████| 23.2 MB 95.7 MB/s eta 0:00:01\n",
      "\u001b[?25hCollecting nvidia-cudnn-cu11==8.7.0.84\n",
      "  Downloading https://download.pytorch.org/whl/cu118/nvidia_cudnn_cu11-8.7.0.84-py3-none-manylinux1_x86_64.whl (728.5 MB)\n",
      "\u001b[K     |██████████████                  | 318.9 MB 108.0 MB/s eta 0:00:04"
     ]
    },
    {
     "name": "stderr",
     "output_type": "stream",
     "text": [
      "IOPub data rate exceeded.\n",
      "The Jupyter server will temporarily stop sending output\n",
      "to the client in order to avoid crashing it.\n",
      "To change this limit, set the config variable\n",
      "`--ServerApp.iopub_data_rate_limit`.\n",
      "\n",
      "Current values:\n",
      "ServerApp.iopub_data_rate_limit=1000000.0 (bytes/sec)\n",
      "ServerApp.rate_limit_window=3.0 (secs)\n",
      "\n"
     ]
    },
    {
     "name": "stdout",
     "output_type": "stream",
     "text": [
      "\u001b[K     |████████████████████████████▌   | 648.7 MB 113.6 MB/s eta 0:00:01"
     ]
    },
    {
     "name": "stderr",
     "output_type": "stream",
     "text": [
      "IOPub data rate exceeded.\n",
      "The Jupyter server will temporarily stop sending output\n",
      "to the client in order to avoid crashing it.\n",
      "To change this limit, set the config variable\n",
      "`--ServerApp.iopub_data_rate_limit`.\n",
      "\n",
      "Current values:\n",
      "ServerApp.iopub_data_rate_limit=1000000.0 (bytes/sec)\n",
      "ServerApp.rate_limit_window=3.0 (secs)\n",
      "\n"
     ]
    },
    {
     "name": "stdout",
     "output_type": "stream",
     "text": [
      "\u001b[K     |████████████████████████████████| 728.5 MB 3.7 kB/s \n",
      "\u001b[?25hRequirement already satisfied: jinja2 in /home/studio-lab-user/.conda/envs/default/lib/python3.9/site-packages (from torch) (3.1.3)\n",
      "Collecting fsspec\n",
      "  Downloading https://download.pytorch.org/whl/fsspec-2024.2.0-py3-none-any.whl (170 kB)\n",
      "\u001b[K     |████████████████████████████████| 170 kB 116.7 MB/s eta 0:00:01\n",
      "\u001b[?25hRequirement already satisfied: networkx in /home/studio-lab-user/.conda/envs/default/lib/python3.9/site-packages (from torch) (3.2.1)\n",
      "Collecting filelock\n",
      "  Downloading https://download.pytorch.org/whl/filelock-3.13.1-py3-none-any.whl (11 kB)\n",
      "Collecting nvidia-curand-cu11==10.3.0.86\n",
      "  Downloading https://download.pytorch.org/whl/cu118/nvidia_curand_cu11-10.3.0.86-py3-none-manylinux1_x86_64.whl (58.1 MB)\n",
      "\u001b[K     |████████████████████████████████| 58.1 MB 105.4 MB/s eta 0:00:01\n",
      "\u001b[?25hCollecting nvidia-cusparse-cu11==11.7.5.86\n",
      "  Downloading https://download.pytorch.org/whl/cu118/nvidia_cusparse_cu11-11.7.5.86-py3-none-manylinux1_x86_64.whl (204.1 MB)\n",
      "\u001b[K     |████████████████████████████████| 204.1 MB 20 kB/s /s eta 0:00:01  |█                               | 6.0 MB 64.2 MB/s eta 0:00:04\n",
      "\u001b[?25hCollecting nvidia-cublas-cu11==11.11.3.6\n",
      "  Downloading https://download.pytorch.org/whl/cu118/nvidia_cublas_cu11-11.11.3.6-py3-none-manylinux1_x86_64.whl (417.9 MB)\n",
      "\u001b[K     |██████████████████████▏         | 289.7 MB 128.9 MB/s eta 0:00:01"
     ]
    },
    {
     "name": "stderr",
     "output_type": "stream",
     "text": [
      "IOPub data rate exceeded.\n",
      "The Jupyter server will temporarily stop sending output\n",
      "to the client in order to avoid crashing it.\n",
      "To change this limit, set the config variable\n",
      "`--ServerApp.iopub_data_rate_limit`.\n",
      "\n",
      "Current values:\n",
      "ServerApp.iopub_data_rate_limit=1000000.0 (bytes/sec)\n",
      "ServerApp.rate_limit_window=3.0 (secs)\n",
      "\n"
     ]
    },
    {
     "name": "stdout",
     "output_type": "stream",
     "text": [
      "\u001b[K     |████████████████████████████████| 417.9 MB 22 kB/s /s eta 0:00:01\n",
      "\u001b[?25hCollecting nvidia-cufft-cu11==10.9.0.58\n",
      "  Downloading https://download.pytorch.org/whl/cu118/nvidia_cufft_cu11-10.9.0.58-py3-none-manylinux1_x86_64.whl (168.4 MB)\n",
      "\u001b[K     |████████████████████████████████| 168.4 MB 112 kB/s  eta 0:00:01\n",
      "\u001b[?25hCollecting nvidia-nvtx-cu11==11.8.86\n",
      "  Downloading https://download.pytorch.org/whl/cu118/nvidia_nvtx_cu11-11.8.86-py3-none-manylinux1_x86_64.whl (99 kB)\n",
      "\u001b[K     |████████████████████████████████| 99 kB 19.1 MB/s  eta 0:00:01\n",
      "\u001b[?25hRequirement already satisfied: numpy in /home/studio-lab-user/.conda/envs/default/lib/python3.9/site-packages (from torchvision) (1.26.4)\n",
      "Requirement already satisfied: pillow!=8.3.*,>=5.3.0 in /home/studio-lab-user/.conda/envs/default/lib/python3.9/site-packages (from torchvision) (10.3.0)\n",
      "Requirement already satisfied: MarkupSafe>=2.0 in /home/studio-lab-user/.conda/envs/default/lib/python3.9/site-packages (from jinja2->torch) (2.1.5)\n",
      "Collecting mpmath>=0.19\n",
      "  Downloading https://download.pytorch.org/whl/mpmath-1.3.0-py3-none-any.whl (536 kB)\n",
      "\u001b[K     |████████████████████████████████| 536 kB 77.4 MB/s eta 0:00:01\n",
      "\u001b[?25hInstalling collected packages: nvidia-cublas-cu11, mpmath, filelock, triton, sympy, nvidia-nvtx-cu11, nvidia-nccl-cu11, nvidia-cusparse-cu11, nvidia-cusolver-cu11, nvidia-curand-cu11, nvidia-cufft-cu11, nvidia-cudnn-cu11, nvidia-cuda-runtime-cu11, nvidia-cuda-nvrtc-cu11, nvidia-cuda-cupti-cu11, fsspec, torch, torchvision, torchaudio\n",
      "Successfully installed filelock-3.13.1 fsspec-2024.2.0 mpmath-1.3.0 nvidia-cublas-cu11-11.11.3.6 nvidia-cuda-cupti-cu11-11.8.87 nvidia-cuda-nvrtc-cu11-11.8.89 nvidia-cuda-runtime-cu11-11.8.89 nvidia-cudnn-cu11-8.7.0.84 nvidia-cufft-cu11-10.9.0.58 nvidia-curand-cu11-10.3.0.86 nvidia-cusolver-cu11-11.4.1.48 nvidia-cusparse-cu11-11.7.5.86 nvidia-nccl-cu11-2.20.5 nvidia-nvtx-cu11-11.8.86 sympy-1.12 torch-2.3.0+cu118 torchaudio-2.3.0+cu118 torchvision-0.18.0+cu118 triton-2.3.0\n",
      "Note: you may need to restart the kernel to use updated packages.\n"
     ]
    }
   ],
   "source": [
    "pip install torch torchvision torchaudio --index-url https://download.pytorch.org/whl/cu118\n"
   ]
  },
  {
   "cell_type": "code",
   "execution_count": 1,
   "id": "9e12cff5",
   "metadata": {
    "tags": []
   },
   "outputs": [],
   "source": [
    "import sys\n",
    "sys.path.append(\"/home/dell/pycharm_remote/VQ-Font/\") # the absolute path to the code\n",
    "import numpy as np\n",
    "from scipy.signal import savgol_filter\n",
    "import matplotlib.pyplot as plt\n",
    "import torch\n",
    "import torch.nn as nn\n",
    "import torch.nn.functional as F\n",
    "from torch import optim\n",
    "from six.moves import xrange\n",
    "import os\n",
    "\n",
    "from torch.utils.data import DataLoader\n",
    "import torchvision.transforms as transforms\n",
    "from model import content_enc_builder\n",
    "from model import dec_builder\n",
    "\n",
    "from torch.utils.data import Dataset\n",
    "from PIL import Image, ImageFile\n",
    "from model.modules import weights_init\n",
    "import pprint\n",
    "import json\n",
    "import tqdm"
   ]
  },
  {
   "cell_type": "code",
   "execution_count": 2,
   "id": "f867e7a8",
   "metadata": {
    "tags": []
   },
   "outputs": [],
   "source": [
    "class VectorQuantizer(nn.Module):\n",
    "    def __init__(self, num_embeddings, embedding_dim, commitment_cost):\n",
    "        super(VectorQuantizer, self).__init__()\n",
    "\n",
    "        self._num_embeddings = num_embeddings\n",
    "        self._embedding_dim = embedding_dim\n",
    "        self._commitment_cost = commitment_cost\n",
    "\n",
    "        self._embedding = nn.Embedding(self._num_embeddings, self._embedding_dim)\n",
    "        self._embedding.weight.data.uniform_(-1 / self._num_embeddings, 1 / self._num_embeddings)\n",
    "\n",
    "\n",
    "    def forward(self, inputs):\n",
    "        # 传入的是图片经过encoder后的feature maps\n",
    "        # convert inputs from BCHW\n",
    "        input_shape = inputs.shape\n",
    "\n",
    "        # Flatten input ->[BC HW]\n",
    "        flat_input = inputs.view(-1, self._embedding_dim)\n",
    "\n",
    "        # Calculate distances\n",
    "        distances = (torch.sum(flat_input ** 2, dim=1, keepdim=True)\n",
    "                     + torch.sum(self._embedding.weight ** 2, dim=1)\n",
    "                     - 2 * torch.matmul(flat_input, self._embedding.weight.t()))\n",
    "\n",
    "        # Encoding\n",
    "        encoding_indices = torch.argmin(distances, dim=1).unsqueeze(1) #得到编号\n",
    "        encodings = torch.zeros(encoding_indices.shape[0], self._num_embeddings, device=inputs.device)\n",
    "        encodings.scatter_(1, encoding_indices, 1)\n",
    "\n",
    "        # Quantize and unflatten\n",
    "        quantized = torch.matmul(encodings, self._embedding.weight).view(input_shape)\n",
    "\n",
    "        # Loss\n",
    "        e_latent_loss = F.mse_loss(quantized.detach(), inputs)\n",
    "        q_latent_loss = F.mse_loss(quantized, inputs.detach())\n",
    "        loss = q_latent_loss + self._commitment_cost * e_latent_loss\n",
    "\n",
    "        quantized = inputs + (quantized - inputs).detach()\n",
    "        avg_probs = torch.mean(encodings, dim=0)\n",
    "        perplexity = torch.exp(-torch.sum(avg_probs * torch.log(avg_probs + 1e-10)))\n",
    "\n",
    "        # convert quantized from BHWC -> BCHW\n",
    "        return loss, quantized, perplexity, encodings"
   ]
  },
  {
   "cell_type": "code",
   "execution_count": 3,
   "id": "fc442a34",
   "metadata": {
    "tags": []
   },
   "outputs": [],
   "source": [
    "class VectorQuantizerEMA(nn.Module):\n",
    "    def __init__(self, num_embeddings, embedding_dim, commitment_cost, decay, epsilon=1e-5):\n",
    "        super(VectorQuantizerEMA, self).__init__()\n",
    "\n",
    "        self._embedding_dim = embedding_dim\n",
    "        self._num_embeddings = num_embeddings\n",
    "\n",
    "        self._embedding = nn.Embedding(self._num_embeddings, self._embedding_dim)\n",
    "        self._embedding.weight.data.normal_()\n",
    "        self._commitment_cost = commitment_cost\n",
    "\n",
    "        self.register_buffer('_ema_cluster_size', torch.zeros(num_embeddings))\n",
    "        self._ema_w = nn.Parameter(torch.Tensor(num_embeddings, self._embedding_dim))\n",
    "        self._ema_w.data.normal_()\n",
    "\n",
    "        self._decay = decay\n",
    "        self._epsilon = epsilon\n",
    "\n",
    "    def forward(self, inputs):\n",
    "        # convert inputs from BCHW -> BHWC\n",
    "        inputs = inputs.permute(0, 2, 3, 1).contiguous()\n",
    "        input_shape = inputs.shape\n",
    "\n",
    "        # Flatten input\n",
    "        flat_input = inputs.view(-1, self._embedding_dim)\n",
    "\n",
    "        # Calculate distances\n",
    "        distances = (torch.sum(flat_input ** 2, dim=1, keepdim=True)\n",
    "                     + torch.sum(self._embedding.weight ** 2, dim=1)\n",
    "                     - 2 * torch.matmul(flat_input, self._embedding.weight.t()))\n",
    "\n",
    "        # Encoding\n",
    "        encoding_indices = torch.argmin(distances, dim=1).unsqueeze(1)\n",
    "        encodings = torch.zeros(encoding_indices.shape[0], self._num_embeddings, device=inputs.device)\n",
    "        encodings.scatter_(1, encoding_indices, 1)\n",
    "\n",
    "        # Quantize and unflatten\n",
    "        quantized = torch.matmul(encodings, self._embedding.weight).view(input_shape)\n",
    "\n",
    "        # Use EMA to update the embedding vectors\n",
    "        if self.training:\n",
    "            self._ema_cluster_size = self._ema_cluster_size * self._decay + \\\n",
    "                                     (1 - self._decay) * torch.sum(encodings, 0)\n",
    "\n",
    "            # Laplace smoothing of the cluster size\n",
    "            n = torch.sum(self._ema_cluster_size.data)\n",
    "            self._ema_cluster_size = (\n",
    "                    (self._ema_cluster_size + self._epsilon)\n",
    "                    / (n + self._num_embeddings * self._epsilon) * n)\n",
    "\n",
    "            dw = torch.matmul(encodings.t(), flat_input)\n",
    "            self._ema_w = nn.Parameter(self._ema_w * self._decay + (1 - self._decay) * dw)\n",
    "\n",
    "            self._embedding.weight = nn.Parameter(self._ema_w / self._ema_cluster_size.unsqueeze(1))\n",
    "\n",
    "        # Loss\n",
    "        e_latent_loss = F.mse_loss(quantized.detach(), inputs)\n",
    "        loss = self._commitment_cost * e_latent_loss\n",
    "\n",
    "        # Straight Through Estimator\n",
    "        quantized = inputs + (quantized - inputs).detach()\n",
    "        avg_probs = torch.mean(encodings, dim=0)\n",
    "        perplexity = torch.exp(-torch.sum(avg_probs * torch.log(avg_probs + 1e-10)))\n",
    "\n",
    "        # convert quantized from BHWC -> BCHW\n",
    "        return loss, quantized.permute(0, 3, 1, 2).contiguous(), perplexity, encodings"
   ]
  },
  {
   "cell_type": "code",
   "execution_count": 4,
   "id": "cdd437fb",
   "metadata": {
    "tags": []
   },
   "outputs": [],
   "source": [
    "class Model(nn.Module):\n",
    "    def __init__(self, num_embeddings, embedding_dim, commitment_cost, decay=0):\n",
    "        super(Model, self).__init__()\n",
    "\n",
    "        self._encoder = content_enc_builder(1,32,256)\n",
    "\n",
    "        if decay > 0.0:\n",
    "            self._vq_vae = VectorQuantizerEMA(num_embeddings, embedding_dim,\n",
    "                                              commitment_cost, decay)\n",
    "        else:\n",
    "            self._vq_vae = VectorQuantizer(num_embeddings, embedding_dim,\n",
    "                                           commitment_cost)\n",
    "        self._decoder = dec_builder(32, 1)\n",
    "\n",
    "    def forward(self, x):\n",
    "        z = self._encoder(x) #[B 256 16 16]\n",
    "        loss, quantized, perplexity, _ = self._vq_vae(z)\n",
    "        x_recon = self._decoder(quantized)\n",
    "\n",
    "        return loss, x_recon, perplexity\n"
   ]
  },
  {
   "cell_type": "code",
   "execution_count": 5,
   "id": "59573f1c",
   "metadata": {
    "tags": []
   },
   "outputs": [],
   "source": [
    "class CombTrain_VQ_VAE_dataset(Dataset):\n",
    "    \"\"\"\n",
    "    CombTrain_VQ_VAE_dataset, learn the laten codebook from content font. \n",
    "    \"\"\"\n",
    "\n",
    "    def __init__(self, root, transform = None):\n",
    "        self.img_path = root\n",
    "        self.transform = transform\n",
    "        self.imgs = self.read_file(self.img_path)\n",
    "        # img = Image.open(self.imgs[0])\n",
    "        # img = self.transform(img)\n",
    "        # print(img.shape)\n",
    "\n",
    "\n",
    "    def read_file(self, path):\n",
    "        \"\"\"从文件夹中读取数据\"\"\"\n",
    "        files_list = os.listdir(path)\n",
    "        file_path_list = [os.path.join(path, img) for img in files_list]\n",
    "        file_path_list.sort()\n",
    "        return file_path_list\n",
    "\n",
    "\n",
    "    def __getitem__(self, index):\n",
    "        img_name = self.imgs[index]\n",
    "        #print(img_name[-5:-4])\n",
    "        img = Image.open(img_name)\n",
    "        if self.transform is not None:\n",
    "            img = self.transform(img) #Tensor [C H W] [1 128 128]\n",
    "        return img\n",
    "\n",
    "    def __len__(self):\n",
    "\n",
    "        return len(self.imgs)"
   ]
  },
  {
   "cell_type": "code",
   "execution_count": 8,
   "id": "f4b99062",
   "metadata": {
    "tags": []
   },
   "outputs": [
    {
     "name": "stdout",
     "output_type": "stream",
     "text": [
      "1000 iterations\n",
      "recon_error: 0.474\n",
      "perplexity: 7.344\n",
      "vq_loss: 701.347\n",
      "\n",
      "2000 iterations\n",
      "recon_error: 0.284\n",
      "perplexity: 9.450\n",
      "vq_loss: 12.611\n",
      "\n"
     ]
    },
    {
     "ename": "KeyboardInterrupt",
     "evalue": "",
     "output_type": "error",
     "traceback": [
      "\u001b[1;31m---------------------------------------------------------------------------\u001b[0m",
      "\u001b[1;31mKeyboardInterrupt\u001b[0m                         Traceback (most recent call last)",
      "Cell \u001b[1;32mIn[8], line 59\u001b[0m\n\u001b[0;32m     55\u001b[0m \u001b[38;5;66;03m# print(train_data_variance)\u001b[39;00m\n\u001b[0;32m     56\u001b[0m \u001b[38;5;66;03m# show(make_grid(data.cpu().data) )\u001b[39;00m\n\u001b[0;32m     57\u001b[0m \u001b[38;5;66;03m# break\u001b[39;00m\n\u001b[0;32m     58\u001b[0m data \u001b[38;5;241m=\u001b[39m data \u001b[38;5;241m-\u001b[39m \u001b[38;5;241m0.5\u001b[39m \u001b[38;5;66;03m# normalize to [-0.5, 0.5]\u001b[39;00m\n\u001b[1;32m---> 59\u001b[0m data \u001b[38;5;241m=\u001b[39m \u001b[43mdata\u001b[49m\u001b[38;5;241;43m.\u001b[39;49m\u001b[43mto\u001b[49m\u001b[43m(\u001b[49m\u001b[43mdevice\u001b[49m\u001b[43m)\u001b[49m\n\u001b[0;32m     60\u001b[0m optimizer\u001b[38;5;241m.\u001b[39mzero_grad()\n\u001b[0;32m     62\u001b[0m vq_loss, data_recon, perplexity \u001b[38;5;241m=\u001b[39m model(data)\n",
      "\u001b[1;31mKeyboardInterrupt\u001b[0m: "
     ]
    }
   ],
   "source": [
    "from torchvision.utils import make_grid\n",
    "\n",
    "device = torch.device(\"cuda:0\" if torch.cuda.is_available() else \"cpu\")\n",
    "\n",
    "train_imgs_path = 'data/content/arial_115'\n",
    "tensorize_transform = transforms.Compose([transforms.Resize((128, 128)),\n",
    "                                          transforms.ToTensor()])\n",
    "\n",
    "train_dataset = CombTrain_VQ_VAE_dataset(train_imgs_path, transform=tensorize_transform)\n",
    "\n",
    "train_loader = DataLoader(train_dataset, batch_size=5, batch_sampler=None, drop_last=True, pin_memory=True, shuffle=True)\n",
    "\n",
    "num_training_updates = 200000\n",
    "\n",
    "embedding_dim = 256\n",
    "num_embeddings = 100\n",
    "\n",
    "commitment_cost = 0.25\n",
    "\n",
    "decay = 0\n",
    "\n",
    "learning_rate = 2e-4\n",
    "\n",
    "model = Model(num_embeddings, embedding_dim, commitment_cost, decay).to(device)\n",
    "model.apply(weights_init(\"xavier\"))\n",
    "\n",
    "optimizer = optim.Adam(model.parameters(), lr=learning_rate, amsgrad=False)\n",
    "\n",
    "model.train()\n",
    "train_res_recon_error = []\n",
    "train_res_perplexity = []\n",
    "train_vq_loss = []\n",
    "\n",
    "\n",
    "def val(model,validation_loader):\n",
    "    model.eval()\n",
    "\n",
    "    valid_originals = next(iter(validation_loader))\n",
    "    valid_originals = valid_originals.to(device)\n",
    "\n",
    "    vq_output_eval = model._encoder(valid_originals)\n",
    "    _, valid_quantize, _, _ = model._vq_vae(vq_output_eval)\n",
    "    valid_reconstructions = model._decoder(valid_quantize)\n",
    "\n",
    "def show(img):\n",
    "    npimg = img.numpy()\n",
    "    fig = plt.imshow(np.transpose(npimg, (1,2,0)), interpolation='nearest')\n",
    "    fig.axes.get_xaxis().set_visible(False)\n",
    "    fig.axes.get_yaxis().set_visible(False)\n",
    "\n",
    "\n",
    "for i in xrange(num_training_updates):\n",
    "    data = next(iter(train_loader))\n",
    "    train_data_variance = torch.var(data)\n",
    "    # print(train_data_variance)\n",
    "    # show(make_grid(data.cpu().data) )\n",
    "    # break\n",
    "    data = data - 0.5 # normalize to [-0.5, 0.5]\n",
    "    data = data.to(device)\n",
    "    optimizer.zero_grad()\n",
    "\n",
    "    vq_loss, data_recon, perplexity = model(data)\n",
    "    # data_recon重构图像\n",
    "    # print(\"vq_loss\\n\",vq_loss)\n",
    "    recon_error = F.mse_loss(data_recon, data) / train_data_variance\n",
    "    loss = recon_error + vq_loss\n",
    "    # 重构损失更新encoder以及decoder,vq_loss用来更新embedding空间\n",
    "    loss.backward()\n",
    "\n",
    "    optimizer.step()\n",
    "\n",
    "    train_res_recon_error.append(recon_error.item())\n",
    "    train_res_perplexity.append(perplexity.item())\n",
    "    train_vq_loss.append(vq_loss.item())\n",
    "\n",
    "    if (i + 1) % 1000 == 0:\n",
    "        print('%d iterations' % (i + 1))\n",
    "        print('recon_error: %.3f' % np.mean(train_res_recon_error[-1000:]))\n",
    "        print('perplexity: %.3f' % np.mean(train_res_perplexity[-1000:]))\n",
    "        print('vq_loss: %.3f' % np.mean(train_vq_loss[-1000:]))\n",
    "        print()\n",
    "        # show(make_grid(data.cpu().data) )"
   ]
  },
  {
   "cell_type": "code",
   "execution_count": 20,
   "id": "cf4ba5cd",
   "metadata": {
    "tags": []
   },
   "outputs": [],
   "source": [
    "val_imgs_path = 'data/content/arial_21'\n",
    "tensorize_transform = transforms.Compose([transforms.Resize((128, 128)),\n",
    "                                          transforms.ToTensor()])\n",
    "\n",
    "val_dataset = CombTrain_VQ_VAE_dataset(val_imgs_path, transform=tensorize_transform)\n",
    "\n",
    "validation_loader = DataLoader(val_dataset, batch_size=21, batch_sampler=None, drop_last=True, pin_memory=True, shuffle=True)"
   ]
  },
  {
   "cell_type": "code",
   "execution_count": 21,
   "id": "8453a418",
   "metadata": {
    "tags": []
   },
   "outputs": [
    {
     "name": "stderr",
     "output_type": "stream",
     "text": [
      "Clipping input data to the valid range for imshow with RGB data ([0..1] for floats or [0..255] for integers). Got range [0.0..1.5].\n"
     ]
    },
    {
     "data": {
      "image/png": "[encoded data removed]",
      "text/plain": [
       "<Figure size 640x480 with 1 Axes>"
      ]
     },
     "metadata": {},
     "output_type": "display_data"
    }
   ],
   "source": [
    "def val_(model,validation_loader):\n",
    "    model.eval()\n",
    "\n",
    "    valid_originals = next(iter(validation_loader))\n",
    "    valid_originals = valid_originals.to(device)\n",
    "\n",
    "    vq_output_eval = model._encoder(valid_originals)\n",
    "    _, valid_quantize, _, _ = model._vq_vae(vq_output_eval)\n",
    "    valid_reconstructions = model._decoder(valid_quantize)\n",
    "    return valid_originals, valid_reconstructions\n",
    "    \n",
    "org, recon_out = val_(model, validation_loader)\n",
    "show(make_grid((org+0.5).cpu().data), )"
   ]
  },
  {
   "cell_type": "code",
   "execution_count": 22,
   "id": "239b2606",
   "metadata": {
    "tags": []
   },
   "outputs": [
    {
     "name": "stderr",
     "output_type": "stream",
     "text": [
      "Clipping input data to the valid range for imshow with RGB data ([0..1] for floats or [0..255] for integers). Got range [0.0..1.2288179].\n"
     ]
    },
    {
     "data": {
      "image/png": "[encoded data removed]",
      "text/plain": [
       "<Figure size 640x480 with 1 Axes>"
      ]
     },
     "metadata": {},
     "output_type": "display_data"
    }
   ],
   "source": [
    "show(make_grid((recon_out+0.5).cpu().data), )"
   ]
  },
  {
   "cell_type": "code",
   "execution_count": 23,
   "id": "3a5e55be",
   "metadata": {
    "tags": []
   },
   "outputs": [],
   "source": [
    "torch.save(model,'weight/VQ-VAE_chn_.pth')    #保存所有的网络参数\n",
    "torch.save(model.state_dict(),'weight/VQ-VAE_Parms_chn_.pth')"
   ]
  },
  {
   "cell_type": "code",
   "execution_count": 6,
   "id": "5ec4963c",
   "metadata": {
    "tags": []
   },
   "outputs": [],
   "source": [
    "embedding_dim, num_embeddings, commitment_cost, decay = 256, 100, 0.25, 0\n",
    "device = torch.device(\"cuda\" if torch.cuda.is_available() else \"cpu\")\n",
    "model = Model(num_embeddings, embedding_dim, commitment_cost, decay).to(device)\n",
    "models = torch.load('weight/VQ-VAE_chn_.pth')\n",
    "encoder = models._encoder\n",
    "encoder.requires_gradq = False\n",
    "encoder.to(\"cpu\")\n",
    "#定义dataset\n",
    "class CombTrain_VQ_VAE_dataset(Dataset):\n",
    "    def __init__(self, root, transform = None):\n",
    "        self.img_path = root\n",
    "        self.transform = transform\n",
    "        self.imgs = self.read_file(self.img_path)\n",
    "        # img = Image.open(self.imgs[0])\n",
    "        # img = self.transform(img)\n",
    "        # print(img.shape)\n",
    "\n",
    "\n",
    "    def read_file(self, path):\n",
    "        \"\"\"从文件夹中读取数据\"\"\"\n",
    "        files_list = os.listdir(path)\n",
    "        file_path_list = [os.path.join(path, img) for img in files_list]\n",
    "        file_path_list.sort()\n",
    "        return file_path_list\n",
    "\n",
    "\n",
    "    def __getitem__(self, index):\n",
    "        img_name = self.imgs[index]\n",
    "        img = Image.open(img_name)\n",
    "        if self.transform is not None:\n",
    "            img = self.transform(img) #Tensor [C H W] [1 128 128]\n",
    "        ret =(img_name, \n",
    "              img\n",
    "        )\n",
    "        return ret\n",
    "\n",
    "    def __len__(self):\n",
    "\n",
    "        return len(self.imgs)\n",
    "\n",
    "\n",
    "\n",
    "\n",
    "train_imgs_path = 'data/content/arial'\n",
    "tensorize_transform = transforms.Compose([transforms.Resize((128, 128)),\n",
    "                                          transforms.ToTensor()])\n",
    "\n",
    "batch = 136 # all content imgs\n",
    "\n",
    "sim_dataset = CombTrain_VQ_VAE_dataset(train_imgs_path, transform=tensorize_transform)\n",
    "\n",
    "sim_loader = DataLoader(sim_dataset, batch_size=batch, batch_sampler=None, drop_last=False, pin_memory=True)\n",
    "\n",
    "similarity = []\n",
    "\n",
    "def CosineSimilarity(tensor_1, tensor_2):\n",
    "    normalized_tensor_1 = tensor_1 / tensor_1.norm(dim=-1, keepdim=True)\n",
    "    normalized_tensor_2 = tensor_2 / tensor_2.norm(dim=-1, keepdim=True)\n",
    "    return (normalized_tensor_1 * normalized_tensor_2).sum(dim=-1)\n",
    "\n",
    "\n",
    "while True:\n",
    "    data = next(iter(sim_loader))\n",
    "    img_name = data[0]\n",
    "    img_tensor = data[1]\n",
    "    img_tensor = img_tensor - 0.5 # normalize to [-0.5, 0.5]\n",
    "    img_tensor = img_tensor.to(\"cpu\")\n",
    "    \n",
    "    #得到了conten的feature\n",
    "    content_feature = encoder(img_tensor)\n",
    "    # print(content_feature.shape)\n",
    "    vector = content_feature.view(content_feature.shape[0], -1)\n",
    "    # print(vector.shape)\n",
    "    \n",
    "    sim_all = {}\n",
    "    for i in range(0,batch):\n",
    "        char_i = hex(ord(img_name[i][-5]))[2:].upper()\n",
    "        dict_sim_i = {char_i:{}}\n",
    "        for j in range(0,batch):\n",
    "            char_j = hex(ord(img_name[j][-5]))[2:].upper()\n",
    "            similarity = CosineSimilarity(vector[i],vector[j])\n",
    "            if i==j:\n",
    "                similarity=1.0\n",
    "            sim_i2j = {char_j:float(similarity)}\n",
    "            dict_sim_i[char_i].update(sim_i2j)\n",
    "        sim_all.update(dict_sim_i)\n",
    "\n",
    "        \n",
    "    dict_json=json.dumps(sim_all)#转化为json格式文件\n",
    "\n",
    "    #将json文件保存为.json格式文件\n",
    "    with open('weight/all_char_similarity_unicode.json','w+') as file:\n",
    "        file.write(dict_json)    \n",
    "    break"
   ]
  },
  {
   "cell_type": "code",
   "execution_count": 7,
   "id": "9318891b",
   "metadata": {
    "tags": []
   },
   "outputs": [
    {
     "name": "stdout",
     "output_type": "stream",
     "text": [
      "{'41': 0.9999982118606567, '42': 0.7081384658813477, '43': 0.7081520557403564, '44': 0.704740047454834, '45': 0.7111393213272095, '46': 0.7403019666671753, '47': 0.6886608600616455, '48': 0.7658683657646179, '49': 0.7868775129318237, '4A': 0.7598836421966553, '4B': 0.7306910753250122, '4C': 0.7707200050354004, '4D': 0.6924388408660889, '4E': 0.7303280830383301, '4F': 0.671463131904602, '50': 0.748375415802002, '51': 0.6545066237449646, '52': 0.7566184997558594, '53': 0.7132596969604492, '54': 0.7551020979881287, '55': 0.7102736234664917, '56': 0.7442779541015625, '57': 0.8275949954986572, '58': 0.7312769293785095, '59': 0.7026399970054626, '5A': 0.7219407558441162, '61': 0.7843235731124878, '62': 0.7672441005706787, '63': 0.7854885458946228, '64': 0.7559870481491089, '65': 0.7476027607917786, '66': 0.7906454801559448, '67': 0.7607115507125854, '68': 0.7875646948814392, '69': 0.7761615514755249, '6A': 0.765097439289093, '6B': 0.7409729361534119, '6C': 0.7897593379020691, '6D': 0.6550687551498413, '6E': 0.8301247954368591, '6F': 0.7619242668151855, '70': 0.7920520305633545, '71': 0.7736482620239258, '72': 0.7870773077011108, '73': 0.7775485515594482, '74': 0.7825912237167358, '75': 0.7584034204483032, '76': 0.7763718366622925, '77': 0.7522865533828735, '78': 0.7313387989997864, '79': 0.726921796798706, '7A': 0.725687563419342, '401': 0.7425539493560791, '406': 0.7868775129318237, '410': 1.0, '411': 0.7141074538230896, '412': 0.7081384658813477, '413': 0.7891838550567627, '414': 0.671262264251709, '415': 0.7111393213272095, '416': 0.6908732652664185, '417': 0.7097258567810059, '418': 0.7335659861564636, '419': 0.7329230308532715, '41A': 0.7321587800979614, '41B': 0.7939010858535767, '41C': 0.6924388408660889, '41D': 0.7658683657646179, '41E': 0.671463131904602, '41F': 0.7741749286651611, '420': 0.748375415802002, '421': 0.7081520557403564, '422': 0.7551020979881287, '423': 0.7308635115623474, '424': 0.6394842863082886, '425': 0.7312769293785095, '426': 0.7002301216125488, '427': 0.786457896232605, '428': 0.6921324729919434, '429': 0.6506130695343018, '42A': 0.6971485614776611, '42B': 0.6404670476913452, '42C': 0.7214118242263794, '42D': 0.6704051494598389, '42E': 0.6994641423225403, '42F': 0.7566848993301392, '430': 0.7843235731124878, '431': 0.764085054397583, '432': 0.776310920715332, '433': 0.7951553463935852, '434': 0.8553245067596436, '435': 0.7476027607917786, '436': 0.7763044834136963, '437': 0.7863154411315918, '438': 0.7663369178771973, '439': 0.8027874231338501, '43A': 0.7547863721847534, '43B': 0.8328520059585571, '43C': 0.7543553113937378, '43D': 0.7593892812728882, '43E': 0.7619242668151855, '43F': 0.8195605874061584, '440': 0.7920520305633545, '441': 0.7854885458946228, '442': 0.744288444519043, '443': 0.726921796798706, '444': 0.6232376098632812, '445': 0.7313387989997864, '446': 0.7967040538787842, '447': 0.7818112373352051, '448': 0.6590218544006348, '449': 0.7140251398086548, '44A': 0.7302473783493042, '44B': 0.7157605886459351, '44C': 0.7609111070632935, '44D': 0.7776674628257751, '44E': 0.6902155876159668, '44F': 0.7991561889648438, '451': 0.7968271970748901, '456': 0.7761615514755249, '492': 0.7462469339370728, '493': 0.783951997756958, '49A': 0.7765004634857178, '49B': 0.7735833525657654, '4A2': 0.7631754279136658, '4A3': 0.7992008924484253, '4AE': 0.7081865668296814, '4AF': 0.7443225383758545, '4B0': 0.7498584985733032, '4B1': 0.7219023704528809, '4BA': 0.7716108560562134, '4BB': 0.7875646948814392, '4D8': 0.6495391130447388, '4D9': 0.7888869047164917, '4E8': 0.6471352577209473, '4E9': 0.751866340637207}\n"
     ]
    }
   ],
   "source": [
    "with open('weight/all_char_similarity_unicode.json','r+') as file:\n",
    "    content=file.read()\n",
    "    \n",
    "content=json.loads(content)#将json格式文件转化为python的字典文件\n",
    "print(content['410'])"
   ]
  },
  {
   "cell_type": "code",
   "execution_count": null,
   "id": "45eff905-eead-4783-a85c-53aa0956f4a5",
   "metadata": {},
   "outputs": [],
   "source": []
  }
 ],
 "metadata": {
  "kernelspec": {
   "display_name": "Python 3",
   "language": "python",
   "name": "python3"
  },
  "language_info": {
   "codemirror_mode": {
    "name": "ipython",
    "version": 3
   },
   "file_extension": ".py",
   "mimetype": "text/x-python",
   "name": "python",
   "nbconvert_exporter": "python",
   "pygments_lexer": "ipython3",
   "version": "3.10.10"
  }
 },
 "nbformat": 4,
 "nbformat_minor": 5
}
